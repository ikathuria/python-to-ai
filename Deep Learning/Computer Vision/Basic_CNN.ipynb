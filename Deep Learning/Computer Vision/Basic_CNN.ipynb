{
 "cells": [
  {
   "cell_type": "markdown",
   "id": "193b85e7",
   "metadata": {},
   "source": [
    "# Convolutional Neural Network\n",
    "Building and training a deep neural network, to apply to a computer vision application."
   ]
  },
  {
   "cell_type": "code",
   "execution_count": null,
   "id": "4677213e",
   "metadata": {},
   "outputs": [],
   "source": [
    "import os\n",
    "import time\n",
    "\n",
    "# preprocessing\n",
    "import numpy as np\n",
    "import cv2\n",
    "from keras.preprocessing.image import ImageDataGenerator\n",
    "\n",
    "# tensorflow keras layers\n",
    "from keras.models import Sequential\n",
    "from keras.layers import Convolution2D, MaxPooling2D, BatchNormalization, Flatten, Dense, Dropout\n",
    "from keras.callbacks import EarlyStopping\n",
    "\n",
    "# metrics\n",
    "from sklearn.metrics import confusion_matrix\n",
    "\n",
    "# plotting\n",
    "import matplotlib.pyplot as plt\n",
    "import seaborn as sns\n",
    "\n",
    "\n",
    "os.environ[\"TF_CPP_MIN_LOG_LEVEL\"] = \"3\"\n",
    "\n",
    "%matplotlib inline"
   ]
  },
  {
   "cell_type": "markdown",
   "id": "656403b2",
   "metadata": {},
   "source": [
    "## Preprocessing data"
   ]
  },
  {
   "cell_type": "code",
   "execution_count": null,
   "id": "8de6188c",
   "metadata": {},
   "outputs": [],
   "source": [
    "size = 64\n",
    "input_shape = (size, size, 3)"
   ]
  },
  {
   "cell_type": "code",
   "execution_count": null,
   "id": "e5d2be36",
   "metadata": {},
   "outputs": [],
   "source": [
    "# training image data generator\n",
    "trainDatagen = ImageDataGenerator(\n",
    "    rescale=1./255,\n",
    "    shear_range=0.2,\n",
    "    zoom_range=0.2,\n",
    "    horizontal_flip=True\n",
    ")\n",
    "\n",
    "# test image data generator\n",
    "testDatagen = ImageDataGenerator(\n",
    "    rescale=1./255\n",
    ")"
   ]
  },
  {
   "cell_type": "code",
   "execution_count": null,
   "id": "f5fede44",
   "metadata": {},
   "outputs": [],
   "source": [
    "# training image dataset\n",
    "trainDataset = trainDatagen.flow_from_directory(\n",
    "    '../input/training_set/training_set',\n",
    "    target_size=(size, size),\n",
    "    batch_size=32,\n",
    "    class_mode='binary'\n",
    ")\n",
    "\n",
    "# test image dataset\n",
    "testDataset = testDatagen.flow_from_directory(\n",
    "    '../input/test_set/test_set',\n",
    "    target_size=(size, size),\n",
    "    batch_size=32,\n",
    "    class_mode='binary'\n",
    ")"
   ]
  },
  {
   "cell_type": "markdown",
   "id": "5dcaa9f1",
   "metadata": {},
   "source": [
    "## Defining the model"
   ]
  },
  {
   "cell_type": "code",
   "execution_count": null,
   "id": "d4cd1cd1",
   "metadata": {},
   "outputs": [],
   "source": [
    "model = Sequential()\n",
    "\n",
    "model.add(Conv2D(\n",
    "    32, (3,3), activation='relu', input_shape=input_shape\n",
    "))\n",
    "\n",
    "model.add(MaxPool2D(2,2))\n",
    "\n",
    "model.add(Flatten())\n",
    "model.add(Dense(100, activation='relu'))\n",
    "\n",
    "# adding output layer\n",
    "model.add(Dense(1, activation='sigmoid'))\n",
    "\n",
    "# compiling the model\n",
    "model.compile(\n",
    "    loss='binary_crossentropy',\n",
    "    optimizer='adam',\n",
    "    metrics=['accuracy']\n",
    ")\n",
    "\n",
    "model.summary()"
   ]
  },
  {
   "cell_type": "markdown",
   "id": "e76d8dfb",
   "metadata": {},
   "source": [
    "### Training"
   ]
  },
  {
   "cell_type": "code",
   "execution_count": null,
   "id": "065dfe67",
   "metadata": {},
   "outputs": [],
   "source": [
    "# callbacks\n",
    "callbacks = [EarlyStopping(monitor='loss', patience=3, verbose=1)]\n",
    "\n",
    "# fitting the model\n",
    "history = model.fit(\n",
    "    trainDataset,\n",
    "    steps_per_epoch=8005,\n",
    "    epochs=20,\n",
    "    verbose=1,\n",
    "    callbacks=callbacks,\n",
    "    validation_split=0.2,\n",
    "    validation_steps=2000,\n",
    ")"
   ]
  },
  {
   "cell_type": "code",
   "execution_count": null,
   "id": "8f79d549",
   "metadata": {},
   "outputs": [],
   "source": [
    "plt.plot(history.history['acc'],'green',label='Accuracy')\n",
    "plt.plot(history.history['loss'],'red',label='Loss')\n",
    "plt.title('Training Accuracy & Loss')\n",
    "plt.xlabel('Epoch')\n",
    "plt.figure()\n",
    "plt.plot(history.history['val_acc'],'green',label='Accuracy')\n",
    "plt.plot(history.history['val_loss'],'red',label='Loss')\n",
    "plt.title('Validation Accuracy & Loss')\n",
    "plt.xlabel('Epoch')\n",
    "plt.figure()"
   ]
  },
  {
   "cell_type": "markdown",
   "id": "6d9eaa22",
   "metadata": {},
   "source": [
    "## Saving the model"
   ]
  },
  {
   "cell_type": "code",
   "execution_count": null,
   "id": "7988801c",
   "metadata": {},
   "outputs": [],
   "source": []
  },
  {
   "cell_type": "markdown",
   "id": "aae133ce",
   "metadata": {},
   "source": [
    "## Evaluation"
   ]
  },
  {
   "cell_type": "code",
   "execution_count": null,
   "id": "88877104",
   "metadata": {},
   "outputs": [],
   "source": [
    "directory = os.listdir(\"../input/test_set/test_set/cats\")\n",
    "print(directory[10])\n",
    "\n",
    "imgCat = cv2.imread(\"../input/test_set/test_set/cats/\" + directory[10])\n",
    "plt.imshow(imgCat)\n",
    "\n",
    "imgCat = cv2.resize(imgCat, (S,S))\n",
    "imgCat = imgCat.reshape(1,S,S,3)\n",
    "\n",
    "pred = classifier.predict(imgCat)\n",
    "print(\"Probability that it is a Cat = \", \"%.2f\" % (1-pred))"
   ]
  },
  {
   "cell_type": "code",
   "execution_count": null,
   "id": "49293bab",
   "metadata": {},
   "outputs": [],
   "source": [
    "directory = os.listdir(\"../input/test_set/test_set/dogs\" )\n",
    "print(directory[10])\n",
    "\n",
    "imgDog = cv2.imread(\"../input/test_set/test_set/dogs/\" + directory[10])\n",
    "plt.imshow(imgDog)\n",
    "\n",
    "imgDog = cv2.resize(imgDog, (S,S))\n",
    "imgDog = imgDog.reshape(1,S,S,3)\n",
    "\n",
    "pred = classifier.predict(imgDog)\n",
    "print(\"Probability that it is a Dog = \", \"%.2f\" % pred)"
   ]
  },
  {
   "cell_type": "code",
   "execution_count": null,
   "id": "92509b85",
   "metadata": {},
   "outputs": [],
   "source": []
  },
  {
   "cell_type": "code",
   "execution_count": null,
   "id": "7bba7ac8",
   "metadata": {},
   "outputs": [],
   "source": [
    "model.evaluate(x_test, y_test)"
   ]
  },
  {
   "cell_type": "code",
   "execution_count": null,
   "id": "34d3ff5e",
   "metadata": {},
   "outputs": [],
   "source": [
    "confusion_matrix(y_true, y_pred)"
   ]
  },
  {
   "cell_type": "code",
   "execution_count": null,
   "id": "8b06d0cb",
   "metadata": {},
   "outputs": [],
   "source": []
  },
  {
   "cell_type": "code",
   "execution_count": null,
   "id": "c5308a56",
   "metadata": {},
   "outputs": [],
   "source": []
  }
 ],
 "metadata": {
  "kernelspec": {
   "display_name": ".venv",
   "language": "python",
   "name": "python3"
  },
  "language_info": {
   "codemirror_mode": {
    "name": "ipython",
    "version": 3
   },
   "file_extension": ".py",
   "mimetype": "text/x-python",
   "name": "python",
   "nbconvert_exporter": "python",
   "pygments_lexer": "ipython3",
   "version": "3.12.6"
  }
 },
 "nbformat": 4,
 "nbformat_minor": 5
}
