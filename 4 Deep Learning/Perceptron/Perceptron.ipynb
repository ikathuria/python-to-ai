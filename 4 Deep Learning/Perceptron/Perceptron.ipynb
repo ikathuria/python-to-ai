{
 "cells": [
  {
   "cell_type": "markdown",
   "id": "6e26d752",
   "metadata": {},
   "source": [
    "# Perceptron Model"
   ]
  },
  {
   "cell_type": "code",
   "execution_count": 1,
   "id": "227d77de",
   "metadata": {},
   "outputs": [],
   "source": [
    "import numpy as np"
   ]
  },
  {
   "cell_type": "code",
   "execution_count": 19,
   "id": "e92d030e",
   "metadata": {},
   "outputs": [],
   "source": [
    "class Perceptron:\n",
    "\n",
    "    def __init__(self, alpha=0.1):\n",
    "        \"\"\"Initialize the weight matrix and store the learning rate.\n",
    "        \n",
    "        Args:\n",
    "            N: number of columns in our input feature vectors.\n",
    "            alpha: learning rate for the Perceptron algorithm, by default=0.1\n",
    "        \"\"\"\n",
    "        self.X = np.array([[0, 0], [0, 1], [1, 0], [1, 1]])\n",
    "        N = self.X.shape[1]\n",
    "        self.W = np.random.randn(N + 1) / np.sqrt(N)\n",
    "        self.alpha = alpha\n",
    "        self.define_output()\n",
    "    \n",
    "    def define_output(self):\n",
    "        \"\"\"Defining the output logic gate.\n",
    "        \"\"\"\n",
    "        outputs = {\n",
    "            'and': [[0], [0], [0], [1]], 'nand': [[1], [1], [1], [0]], 'or': [[0], [1], [1], [1]],\n",
    "            'nor': [[1], [0], [0], [0]], 'xor': [[0], [1], [1], [0]], 'xnor': [[1], [0], [0], [1]]\n",
    "        }\n",
    "\n",
    "        lg = \"\"\"\n",
    "        █░░ █▀▀█ █▀▀▀ ░▀░ █▀▀ 　 █▀▀▀ █▀▀█ ▀▀█▀▀ █▀▀ █▀▀ \n",
    "        █░░ █░░█ █░▀█ ▀█▀ █░░ 　 █░▀█ █▄▄█ ░░█░░ █▀▀ ▀▀█ \n",
    "        ▀▀▀ ▀▀▀▀ ▀▀▀▀ ▀▀▀ ▀▀▀ 　 ▀▀▀▀ ▀░░▀ ░░▀░░ ▀▀▀ ▀▀▀\n",
    "\n",
    "        A B | AND NAND OR NOR XOR XNOR\n",
    "        -------------------------------\n",
    "        0 0 |  0    1   0  1   0   1\n",
    "        0 1 |  0    1   1  0   1   0\n",
    "        1 0 |  0    1   1  0   1   0\n",
    "        1 1 |  1    0   1  0   0   1\n",
    "        \"\"\"\n",
    "        print(lg)\n",
    "\n",
    "        while True:\n",
    "            try:\n",
    "                self.output_gate = input('Enter your chosen logic gate: ').lower()\n",
    "                break\n",
    "            except KeyError:\n",
    "                print('Invalid logic gate, try again!\\n')\n",
    "\n",
    "        self.y = np.array(outputs[self.output_gate])\n",
    "    \n",
    "    def step(self, x):\n",
    "        \"\"\"Apply the perceptron step function.\n",
    "        \"\"\"\n",
    "        return 1 if x > 0 else 0\n",
    "\n",
    "    def fit(self, epochs=10):\n",
    "        \"\"\"Insert a column of 1's as the last entry in the feature\n",
    "        matrix -- this little trick allows us to treat the bias\n",
    "        as a trainable parameter within the weight matrix.\n",
    "        \"\"\"\n",
    "        self.X = np.c_[self.X, np.ones((self.X.shape[0]))]\n",
    "\n",
    "        # loop over the desired number of epochs\n",
    "        for epoch in np.arange(0, epochs):\n",
    "            # loop over each individual data point\n",
    "\n",
    "            for (x, target) in zip(self.X, self.y):\n",
    "                # take the dot product between the input features\n",
    "                # and the weight matrix, then pass this value\n",
    "                # through the step function to obtain the prediction\n",
    "\n",
    "                p = self.step(np.dot(x, self.W))\n",
    "                # only perform a weight update if our prediction\n",
    "                # does not match the target\n",
    "                if p != target:\n",
    "                    # determine the error\n",
    "                    error = p - target\n",
    "                    # update the weight matrix\n",
    "                    self.W += -self.alpha * error * x\n",
    "\n",
    "    def predict(self, test_x, addBias=True):\n",
    "        \"\"\"Predicting values with trained network.\n",
    "        \"\"\"\n",
    "        # ensure our input is a matrix\n",
    "        self.test_x = test_x\n",
    "        self.test_x = np.atleast_2d(self.test_x)\n",
    "\n",
    "        # check to see if the bias column should be added\n",
    "        if addBias:\n",
    "            # insert a column of 1's as the last entry in the feature\n",
    "            # matrix (bias)\n",
    "            self.test_x = np.c_[self.test_x, np.ones((self.test_x.shape[0]))]\n",
    "\n",
    "        # take the dot product between the input features and the\n",
    "        # weight matrix, then pass the value through the step\n",
    "        # function\n",
    "        return self.step(np.dot(self.test_x, self.W))"
   ]
  },
  {
   "cell_type": "code",
   "execution_count": 20,
   "id": "ec5cff8a",
   "metadata": {},
   "outputs": [
    {
     "name": "stdout",
     "output_type": "stream",
     "text": [
      "\n",
      "        █░░ █▀▀█ █▀▀▀ ░▀░ █▀▀ 　 █▀▀▀ █▀▀█ ▀▀█▀▀ █▀▀ █▀▀ \n",
      "        █░░ █░░█ █░▀█ ▀█▀ █░░ 　 █░▀█ █▄▄█ ░░█░░ █▀▀ ▀▀█ \n",
      "        ▀▀▀ ▀▀▀▀ ▀▀▀▀ ▀▀▀ ▀▀▀ 　 ▀▀▀▀ ▀░░▀ ░░▀░░ ▀▀▀ ▀▀▀\n",
      "\n",
      "        A B | AND NAND OR NOR XOR XNOR\n",
      "        -------------------------------\n",
      "        0 0 |  0    1   0  1   0   1\n",
      "        0 1 |  0    1   1  0   1   0\n",
      "        1 0 |  0    1   1  0   1   0\n",
      "        1 1 |  1    0   1  0   0   1\n",
      "        \n",
      "Enter your chosen logic gate: and\n"
     ]
    }
   ],
   "source": [
    "p = Perceptron()"
   ]
  },
  {
   "cell_type": "code",
   "execution_count": 21,
   "id": "50da6a64",
   "metadata": {},
   "outputs": [],
   "source": [
    "p.fit(epochs=20)"
   ]
  },
  {
   "cell_type": "code",
   "execution_count": 23,
   "id": "b8d64fbf",
   "metadata": {},
   "outputs": [
    {
     "name": "stdout",
     "output_type": "stream",
     "text": [
      "[INFO] data=[0 0], ground-truth=0, pred=0\n",
      "[INFO] data=[0 1], ground-truth=0, pred=0\n",
      "[INFO] data=[1 0], ground-truth=0, pred=0\n",
      "[INFO] data=[1 1], ground-truth=1, pred=1\n"
     ]
    }
   ],
   "source": [
    "X = np.array([[0, 0], [0, 1], [1, 0], [1, 1]])\n",
    "y = np.array([[0], [0], [0], [1]])\n",
    "\n",
    "for (x, target) in zip(X, y):\n",
    "    # make a prediction on the data point and display the result\n",
    "    # to our console\n",
    "    pred = p.predict(x)\n",
    "    print(\"[INFO] data={}, ground-truth={}, pred={}\".format(\n",
    "        x, target[0], pred))"
   ]
  },
  {
   "cell_type": "code",
   "execution_count": null,
   "id": "2a2b5b20",
   "metadata": {},
   "outputs": [],
   "source": []
  }
 ],
 "metadata": {
  "kernelspec": {
   "display_name": "Python 3 (ipykernel)",
   "language": "python",
   "name": "python3"
  },
  "language_info": {
   "codemirror_mode": {
    "name": "ipython",
    "version": 3
   },
   "file_extension": ".py",
   "mimetype": "text/x-python",
   "name": "python",
   "nbconvert_exporter": "python",
   "pygments_lexer": "ipython3",
   "version": "3.10.2"
  }
 },
 "nbformat": 4,
 "nbformat_minor": 5
}
