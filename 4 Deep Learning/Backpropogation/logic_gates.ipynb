{
 "cells": [
  {
   "cell_type": "markdown",
   "metadata": {},
   "source": [
    "# Logic gates with Neural Networks (Backpropogation)"
   ]
  },
  {
   "cell_type": "code",
   "execution_count": 1,
   "metadata": {
    "id": "vuhF9_IXMES6"
   },
   "outputs": [],
   "source": [
    "import numpy as np\n",
    "import pandas as pd\n",
    "import datetime\n",
    "import matplotlib.pyplot as plt\n",
    "pd.set_option('max_colwidth', None)"
   ]
  },
  {
   "cell_type": "markdown",
   "metadata": {},
   "source": [
    "## Activation function: Sigmoid function"
   ]
  },
  {
   "cell_type": "code",
   "execution_count": 2,
   "metadata": {
    "id": "EXh6FrflPcam"
   },
   "outputs": [],
   "source": [
    "def sigmoid(x):\n",
    "    \"\"\"Implementing the sigmoid function for x.\n",
    "    sig(x) = 1/(1+e^-x)\n",
    "\n",
    "    Args:\n",
    "        x: input for which signmoid function needs to be calculated.\n",
    "\n",
    "    Returns:\n",
    "        the sigmoid function.\n",
    "    \"\"\"\n",
    "    return 1 / (1 + (np.exp(-x)))"
   ]
  },
  {
   "cell_type": "code",
   "execution_count": 3,
   "metadata": {
    "id": "csmFAxGqQ4oK"
   },
   "outputs": [],
   "source": [
    "def sigmoid_derivative(x):\n",
    "    \"\"\"Implementing the sigmoid function for x.\n",
    "    sig'(x) = x * (1-x)\n",
    "\n",
    "    Args:\n",
    "        x: input for which derivative of signmoid function needs to be calculated.\n",
    "\n",
    "    Returns:\n",
    "        the derivative of sigmoid function.\n",
    "    \"\"\"\n",
    "    return sigmoid(x) * (1-sigmoid(x))"
   ]
  },
  {
   "cell_type": "markdown",
   "metadata": {},
   "source": [
    "## Setting input, `X` and output, `Y_target`"
   ]
  },
  {
   "cell_type": "code",
   "execution_count": 4,
   "metadata": {},
   "outputs": [],
   "source": [
    "def define_output():\n",
    "    outputs = {\n",
    "        'and': [[0], [0], [0], [1]], 'nand': [[1], [1], [1], [0]], 'or': [[0], [1], [1], [1]],\n",
    "        'nor': [[1], [0], [0], [0]], 'xor': [[0], [1], [1], [0]], 'xnor': [[1], [0], [0], [1]]\n",
    "    }\n",
    "\n",
    "    lg = \"\"\"\n",
    "    █░░ █▀▀█ █▀▀▀ ░▀░ █▀▀ 　 █▀▀▀ █▀▀█ ▀▀█▀▀ █▀▀ █▀▀ \n",
    "    █░░ █░░█ █░▀█ ▀█▀ █░░ 　 █░▀█ █▄▄█ ░░█░░ █▀▀ ▀▀█ \n",
    "    ▀▀▀ ▀▀▀▀ ▀▀▀▀ ▀▀▀ ▀▀▀ 　 ▀▀▀▀ ▀░░▀ ░░▀░░ ▀▀▀ ▀▀▀\n",
    "    \n",
    "    A B | AND NAND OR NOR XOR XNOR\n",
    "    -------------------------------\n",
    "    0 0 |  0    1   0  1   0   1\n",
    "    0 1 |  0    1   1  0   1   0\n",
    "    1 0 |  0    1   1  0   1   0\n",
    "    1 1 |  1    0   1  0   0   1\n",
    "    \"\"\"\n",
    "    print(lg)\n",
    "\n",
    "    while True:\n",
    "        try:\n",
    "            output_gate = input('Enter your chosen logic gate: ').lower()\n",
    "            break\n",
    "        except KeyError:\n",
    "            print('Invalid logic gate, try again!\\n')\n",
    "\n",
    "    return np.array(outputs[output_gate]), output_gate"
   ]
  },
  {
   "cell_type": "markdown",
   "metadata": {},
   "source": [
    "## Training"
   ]
  },
  {
   "cell_type": "code",
   "execution_count": 5,
   "metadata": {
    "colab": {
     "base_uri": "https://localhost:8080/"
    },
    "id": "vQwdCVjJVTgv",
    "outputId": "1f7fca58-1426-49bc-e075-369c6b6e2727"
   },
   "outputs": [],
   "source": [
    "def train_network(initial_weights, total_epochs=200000):\n",
    "    print(f\"\\n---------- STARTING TRAINING FOR {total_epochs} ----------\\n\")\n",
    "\n",
    "    W1, W2 = initial_weights\n",
    "\n",
    "    for epoch in range(1, total_epochs+1):\n",
    "        # forward propagation\n",
    "        Z = np.dot(X, W1)\n",
    "        H = sigmoid(Z)\n",
    "\n",
    "        U = np.dot(H, W2)\n",
    "        Y = sigmoid(U)\n",
    "\n",
    "        # calculate Loss function (Mean Square error loss)\n",
    "        E = abs(Y - Y_target)\n",
    "        L = 1/2 * (np.power(E, 2))\n",
    "\n",
    "        # backpropagation - Stage 1\n",
    "        dL_dY = Y - Y_target\n",
    "        dY_dU = Y * (1-Y)\n",
    "        dU_dW2 = H\n",
    "\n",
    "        dL_dW2 = np.dot(dU_dW2.T,dL_dY*dY_dU)\n",
    "\n",
    "        # weight updates in stage 1\n",
    "        W2 -= lr*dL_dW2\n",
    "\n",
    "        # backpropagation - Stage 2\n",
    "        dL_dY = Y-Y_target\n",
    "        dY_dU = Y*(1-Y)\n",
    "        dU_dH = W2\n",
    "        dH_dZ = H*(1-H)\n",
    "        dZ_dW1 = X\n",
    "\n",
    "        dL_dH = np.dot(dL_dY*dY_dU,dU_dH.T)\n",
    "        dL_dW1 = np.dot(dZ_dW1.T,dH_dZ*dL_dH)\n",
    "\n",
    "        # weight updates in stage 2\n",
    "        W1 -= lr*dL_dW1\n",
    "\n",
    "        if epoch % 20000 == 0:\n",
    "            print(\"%6d -   %5s: %.4f    %8s: %.4f\" % (epoch, 'Error', E.sum(), 'MSE loss', L.sum()))\n",
    "\n",
    "    print(\"\\n---------- ENDING TRAINING ----------\")\n",
    "\n",
    "    return W1, W2"
   ]
  },
  {
   "cell_type": "markdown",
   "metadata": {},
   "source": [
    "## Final program"
   ]
  },
  {
   "cell_type": "code",
   "execution_count": 6,
   "metadata": {
    "scrolled": false
   },
   "outputs": [
    {
     "name": "stdout",
     "output_type": "stream",
     "text": [
      "\n",
      "    █░░ █▀▀█ █▀▀▀ ░▀░ █▀▀ 　 █▀▀▀ █▀▀█ ▀▀█▀▀ █▀▀ █▀▀ \n",
      "    █░░ █░░█ █░▀█ ▀█▀ █░░ 　 █░▀█ █▄▄█ ░░█░░ █▀▀ ▀▀█ \n",
      "    ▀▀▀ ▀▀▀▀ ▀▀▀▀ ▀▀▀ ▀▀▀ 　 ▀▀▀▀ ▀░░▀ ░░▀░░ ▀▀▀ ▀▀▀\n",
      "    \n",
      "    A B | AND NAND OR NOR XOR XNOR\n",
      "    -------------------------------\n",
      "    0 0 |  0    1   0  1   0   1\n",
      "    0 1 |  0    1   1  0   1   0\n",
      "    1 0 |  0    1   1  0   1   0\n",
      "    1 1 |  1    0   1  0   0   1\n",
      "    \n",
      "Enter your chosen logic gate: xor\n"
     ]
    },
    {
     "data": {
      "image/png": "[encoded data removed]",
      "text/plain": [
       "<Figure size 432x288 with 1 Axes>"
      ]
     },
     "metadata": {
      "needs_background": "light"
     },
     "output_type": "display_data"
    },
    {
     "name": "stdout",
     "output_type": "stream",
     "text": [
      "\n",
      "Learning rate: 0.05\n",
      "\n",
      "---------- STARTING TRAINING FOR 100000 ----------\n",
      "\n",
      " 20000 -   Error: 0.6476    MSE loss: 0.0525\n",
      " 40000 -   Error: 0.2209    MSE loss: 0.0067\n",
      " 60000 -   Error: 0.1623    MSE loss: 0.0037\n",
      " 80000 -   Error: 0.1343    MSE loss: 0.0026\n",
      "100000 -   Error: 0.1170    MSE loss: 0.0020\n",
      "\n",
      "---------- ENDING TRAINING ----------\n",
      "\n",
      "WEIGHTS\n",
      "        W11       W12       W13       W14       W15       W16       W21       W22       W23\n",
      "0 -3.472627  5.843277  5.585736 -3.472627 -3.472627 -3.472627 -9.885644 -9.885644 -9.885644\n",
      "1 -3.472627  5.843277  5.585736 -3.472627 -3.472627 -3.472627 -9.885644 -9.885644 -9.885644\n",
      "\n",
      "\n",
      "\n",
      "---------- STARTING TRAINING FOR 200000 ----------\n",
      "\n",
      " 20000 -   Error: 0.6476    MSE loss: 0.0525\n",
      " 40000 -   Error: 0.2209    MSE loss: 0.0067\n",
      " 60000 -   Error: 0.1623    MSE loss: 0.0037\n",
      " 80000 -   Error: 0.1343    MSE loss: 0.0026\n",
      "100000 -   Error: 0.1170    MSE loss: 0.0020\n",
      "120000 -   Error: 0.1050    MSE loss: 0.0016\n",
      "140000 -   Error: 0.0960    MSE loss: 0.0014\n",
      "160000 -   Error: 0.0890    MSE loss: 0.0012\n",
      "180000 -   Error: 0.0833    MSE loss: 0.0010\n",
      "200000 -   Error: 0.0786    MSE loss: 0.0009\n",
      "\n",
      "---------- ENDING TRAINING ----------\n",
      "\n",
      "WEIGHTS\n",
      "        W11      W12       W13       W14       W15       W16      W21      W22      W23\n",
      "0 -3.795254  6.15271  5.721519 -3.795254 -3.795254 -3.795254 -11.0037 -11.0037 -11.0037\n",
      "1 -3.795254  6.15271  5.721519 -3.795254 -3.795254 -3.795254 -11.0037 -11.0037 -11.0037\n",
      "\n",
      "\n",
      "\n",
      "---------- STARTING TRAINING FOR 500000 ----------\n",
      "\n",
      " 20000 -   Error: 0.6476    MSE loss: 0.0525\n",
      " 40000 -   Error: 0.2209    MSE loss: 0.0067\n",
      " 60000 -   Error: 0.1623    MSE loss: 0.0037\n",
      " 80000 -   Error: 0.1343    MSE loss: 0.0026\n",
      "100000 -   Error: 0.1170    MSE loss: 0.0020\n",
      "120000 -   Error: 0.1050    MSE loss: 0.0016\n",
      "140000 -   Error: 0.0960    MSE loss: 0.0014\n",
      "160000 -   Error: 0.0890    MSE loss: 0.0012\n",
      "180000 -   Error: 0.0833    MSE loss: 0.0010\n",
      "200000 -   Error: 0.0786    MSE loss: 0.0009\n",
      "220000 -   Error: 0.0746    MSE loss: 0.0008\n",
      "240000 -   Error: 0.0711    MSE loss: 0.0008\n",
      "260000 -   Error: 0.0681    MSE loss: 0.0007\n",
      "280000 -   Error: 0.0654    MSE loss: 0.0006\n",
      "300000 -   Error: 0.0630    MSE loss: 0.0006\n",
      "320000 -   Error: 0.0608    MSE loss: 0.0006\n",
      "340000 -   Error: 0.0589    MSE loss: 0.0005\n",
      "360000 -   Error: 0.0571    MSE loss: 0.0005\n",
      "380000 -   Error: 0.0555    MSE loss: 0.0005\n",
      "400000 -   Error: 0.0540    MSE loss: 0.0004\n",
      "420000 -   Error: 0.0526    MSE loss: 0.0004\n",
      "440000 -   Error: 0.0513    MSE loss: 0.0004\n",
      "460000 -   Error: 0.0502    MSE loss: 0.0004\n",
      "480000 -   Error: 0.0490    MSE loss: 0.0004\n",
      "500000 -   Error: 0.0480    MSE loss: 0.0004\n",
      "\n",
      "---------- ENDING TRAINING ----------\n",
      "\n",
      "WEIGHTS\n",
      "        W11       W12       W13       W14       W15       W16        W21        W22        W23\n",
      "0 -4.132396  6.461664  5.884712 -4.132396 -4.132396 -4.132396 -12.414959 -12.414959 -12.414959\n",
      "1 -4.132396  6.461664  5.884712 -4.132396 -4.132396 -4.132396 -12.414959 -12.414959 -12.414959\n",
      "\n",
      "\n"
     ]
    }
   ],
   "source": [
    "all_epochs = [100000, 200000, 500000]\n",
    "all_initial_times = []\n",
    "all_final_times = []\n",
    "\n",
    "# learning rate\n",
    "lr = 0.05\n",
    "\n",
    "# set the Input datasets\n",
    "X = np.array([[0,0],[0,1],[1,0],[1,1]])\n",
    "\n",
    "# set the expected output\n",
    "Y_target, output_gate = define_output()\n",
    "\n",
    "# plotting expected output\n",
    "colormap = np.array(['b', 'r'])\n",
    "plt.scatter([i[0] for i in X], [i[1] for i in X], c=colormap[Y_target.flatten()], s=200)\n",
    "plt.xlabel('x')\n",
    "plt.ylabel('y')\n",
    "plt.suptitle(output_gate.upper(), y=1, fontsize=18)\n",
    "plt.title('Color for output {0: blue, 1: red}', fontsize=10)\n",
    "plt.show()\n",
    "\n",
    "print(\"\\nLearning rate:\", lr)\n",
    "\n",
    "for epochs in all_epochs:\n",
    "    # initial time\n",
    "    initial_time = datetime.datetime.now()\n",
    "    all_initial_times.append(initial_time)\n",
    "\n",
    "    # assigning random weights\n",
    "    # 6 for hidden layer, 3 for output layer\n",
    "    initial_W1 = np.array([[0.1, 0.2, 0.3], [0.4, 0.5, 0.6]])\n",
    "    initial_W2 = np.array([[0.7], [0.8], [0.9]])\n",
    "\n",
    "    W1, W2 = train_network([initial_W1, initial_W2], epochs)\n",
    "\n",
    "    weights_frame = pd.DataFrame({\n",
    "        'W11': [initial_W1[0][0], W1[0][0]],\n",
    "        'W12': [initial_W1[0][1], W1[0][1]],\n",
    "        'W13': [initial_W1[0][2], W1[0][2]],\n",
    "        'W14': [initial_W1[0][0], W1[0][0]],\n",
    "        'W15': [initial_W1[0][0], W1[0][0]],\n",
    "        'W16': [initial_W1[0][0], W1[0][0]],\n",
    "        'W21': [initial_W2[0][0], W2[0][0]],\n",
    "        'W22': [initial_W2[0][0], W2[0][0]],\n",
    "        'W23': [initial_W2[0][0], W2[0][0]],\n",
    "    })\n",
    "\n",
    "    print('\\nWEIGHTS')\n",
    "    print(weights_frame.to_string())\n",
    "    print('\\n')\n",
    "\n",
    "    # final time\n",
    "    final_time = datetime.datetime.now()\n",
    "    all_final_times.append(final_time)"
   ]
  },
  {
   "cell_type": "markdown",
   "metadata": {},
   "source": [
    "## Testing"
   ]
  },
  {
   "cell_type": "code",
   "execution_count": 7,
   "metadata": {
    "colab": {
     "base_uri": "https://localhost:8080/"
    },
    "id": "t9YX2ylgR8zx",
    "outputId": "1d08f60b-e260-4515-9dd9-840282df44d9"
   },
   "outputs": [
    {
     "name": "stdout",
     "output_type": "stream",
     "text": [
      "LOGIC GATE: XOR\n"
     ]
    },
    {
     "data": {
      "text/html": [
       "<div>\n",
       "<style scoped>\n",
       "    .dataframe tbody tr th:only-of-type {\n",
       "        vertical-align: middle;\n",
       "    }\n",
       "\n",
       "    .dataframe tbody tr th {\n",
       "        vertical-align: top;\n",
       "    }\n",
       "\n",
       "    .dataframe thead th {\n",
       "        text-align: right;\n",
       "    }\n",
       "</style>\n",
       "<table border=\"1\" class=\"dataframe\">\n",
       "  <thead>\n",
       "    <tr style=\"text-align: right;\">\n",
       "      <th></th>\n",
       "      <th>Input1</th>\n",
       "      <th>Input2</th>\n",
       "      <th>Z</th>\n",
       "      <th>H</th>\n",
       "      <th>U</th>\n",
       "      <th>Y</th>\n",
       "      <th>Target</th>\n",
       "      <th>Prediction</th>\n",
       "    </tr>\n",
       "  </thead>\n",
       "  <tbody>\n",
       "    <tr>\n",
       "      <th>0</th>\n",
       "      <td>0</td>\n",
       "      <td>0</td>\n",
       "      <td>[0.0, 0.0, 0.0]</td>\n",
       "      <td>[0.5, 0.5, 0.5]</td>\n",
       "      <td>[-3.895159887302203]</td>\n",
       "      <td>[0.019934648870626886]</td>\n",
       "      <td>0</td>\n",
       "      <td>0</td>\n",
       "    </tr>\n",
       "    <tr>\n",
       "      <th>1</th>\n",
       "      <td>0</td>\n",
       "      <td>1</td>\n",
       "      <td>[6.444466070230745, -4.138704558059745, 5.899873000256077]</td>\n",
       "      <td>[0.9984132289306397, 0.01569328621728696, 0.9972676932046957]</td>\n",
       "      <td>[4.4006729229138095]</td>\n",
       "      <td>[0.9878796248849324]</td>\n",
       "      <td>1</td>\n",
       "      <td>1</td>\n",
       "    </tr>\n",
       "    <tr>\n",
       "      <th>2</th>\n",
       "      <td>1</td>\n",
       "      <td>0</td>\n",
       "      <td>[-4.132395941018188, 6.461663751248734, 5.884712384439663]</td>\n",
       "      <td>[0.015791033793323882, 0.9984402422008609, 0.9972260699368929]</td>\n",
       "      <td>[4.400694482818649]</td>\n",
       "      <td>[0.9878798830291259]</td>\n",
       "      <td>1</td>\n",
       "      <td>1</td>\n",
       "    </tr>\n",
       "    <tr>\n",
       "      <th>3</th>\n",
       "      <td>1</td>\n",
       "      <td>1</td>\n",
       "      <td>[2.3120701292125574, 2.3229591931889892, 11.78458538469574]</td>\n",
       "      <td>[0.9098717606345105, 0.9107607434278349, 0.9999923789241137]</td>\n",
       "      <td>[-5.56381654701233]</td>\n",
       "      <td>[0.003819471063960799]</td>\n",
       "      <td>0</td>\n",
       "      <td>0</td>\n",
       "    </tr>\n",
       "  </tbody>\n",
       "</table>\n",
       "</div>"
      ],
      "text/plain": [
       "   Input1  Input2  \\\n",
       "0       0       0   \n",
       "1       0       1   \n",
       "2       1       0   \n",
       "3       1       1   \n",
       "\n",
       "                                                             Z  \\\n",
       "0                                              [0.0, 0.0, 0.0]   \n",
       "1   [6.444466070230745, -4.138704558059745, 5.899873000256077]   \n",
       "2   [-4.132395941018188, 6.461663751248734, 5.884712384439663]   \n",
       "3  [2.3120701292125574, 2.3229591931889892, 11.78458538469574]   \n",
       "\n",
       "                                                                H  \\\n",
       "0                                                 [0.5, 0.5, 0.5]   \n",
       "1   [0.9984132289306397, 0.01569328621728696, 0.9972676932046957]   \n",
       "2  [0.015791033793323882, 0.9984402422008609, 0.9972260699368929]   \n",
       "3    [0.9098717606345105, 0.9107607434278349, 0.9999923789241137]   \n",
       "\n",
       "                      U                       Y  Target  Prediction  \n",
       "0  [-3.895159887302203]  [0.019934648870626886]       0           0  \n",
       "1  [4.4006729229138095]    [0.9878796248849324]       1           1  \n",
       "2   [4.400694482818649]    [0.9878798830291259]       1           1  \n",
       "3   [-5.56381654701233]  [0.003819471063960799]       0           0  "
      ]
     },
     "execution_count": 7,
     "metadata": {},
     "output_type": "execute_result"
    }
   ],
   "source": [
    "z_vals = []\n",
    "h_vals = []\n",
    "u_vals = []\n",
    "y_vals = []\n",
    "preds = []\n",
    "\n",
    "for point in X:\n",
    "    point = np.array(point)\n",
    "    z = np.dot(point, W1)\n",
    "    z_vals.append(z)\n",
    "\n",
    "    h = sigmoid(z)\n",
    "    h_vals.append(h)\n",
    "\n",
    "    op = np.dot(h, W2)\n",
    "    u_vals.append(op)\n",
    "\n",
    "    y_cap = sigmoid(op)\n",
    "    y_vals.append(y_cap)\n",
    "\n",
    "    preds.append(round(y_cap[0]))\n",
    "\n",
    "print(f\"LOGIC GATE: {output_gate.upper()}\")\n",
    "pd.DataFrame.from_dict({\n",
    "    'Input1': X.reshape(-1)[::2],\n",
    "    'Input2': X.reshape(-1)[1::2],\n",
    "    'Z': z_vals,\n",
    "    'H': h_vals,\n",
    "    'U': u_vals,\n",
    "    'Y': y_vals,\n",
    "    'Target': Y_target.reshape(-1),\n",
    "    'Prediction': preds\n",
    "})"
   ]
  },
  {
   "cell_type": "markdown",
   "metadata": {},
   "source": [
    "## Time Complexity\n",
    "Time complexity is the amount of time taken by an algorithm to run, as a function of the length of the input. It measures the time taken to execute each statement of code in an algorithm.\n",
    "\n",
    "Our Neural Network consists of 2 input nodes going into a hidden layer with 3 nodes which in turn goes to the output layer with 1 node. The weighted sum of each layer is going through a sigmoid activation function.\n",
    "\n",
    "<img src=\"NN.png\" width=600>"
   ]
  },
  {
   "cell_type": "code",
   "execution_count": 8,
   "metadata": {},
   "outputs": [],
   "source": [
    "def convert_time(time):\n",
    "    return datetime.timedelta(\n",
    "        hours=time.hour, minutes=time.minute, seconds=time.second, microseconds=time.microsecond\n",
    "    )"
   ]
  },
  {
   "cell_type": "code",
   "execution_count": 9,
   "metadata": {},
   "outputs": [
    {
     "name": "stdout",
     "output_type": "stream",
     "text": [
      "Total time taken for  100000 epochs:     0:00:03.706519\n",
      "Total time taken for  200000 epochs:     0:00:07.351648\n",
      "Total time taken for  500000 epochs:     0:00:18.610235\n"
     ]
    }
   ],
   "source": [
    "for initial_time, final_time, epochs in zip(all_initial_times, all_final_times, all_epochs):\n",
    "    initial_timedelta = convert_time(initial_time)\n",
    "    final_timedelta = convert_time(final_time)\n",
    "\n",
    "    # total time taken by program\n",
    "    print('Total time taken for %7d epochs: %18s' %(epochs, final_timedelta-initial_timedelta))"
   ]
  }
 ],
 "metadata": {
  "accelerator": "GPU",
  "colab": {
   "name": "NN_OR_Gate_via_Backprop.ipynb",
   "provenance": []
  },
  "kernelspec": {
   "display_name": "Python 3 (ipykernel)",
   "language": "python",
   "name": "python3"
  },
  "language_info": {
   "codemirror_mode": {
    "name": "ipython",
    "version": 3
   },
   "file_extension": ".py",
   "mimetype": "text/x-python",
   "name": "python",
   "nbconvert_exporter": "python",
   "pygments_lexer": "ipython3",
   "version": "3.10.2"
  }
 },
 "nbformat": 4,
 "nbformat_minor": 1
}
