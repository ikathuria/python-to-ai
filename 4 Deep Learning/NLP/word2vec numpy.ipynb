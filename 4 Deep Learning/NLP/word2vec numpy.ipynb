{
 "cells": [
  {
   "cell_type": "markdown",
   "metadata": {},
   "source": [
    "# Implementation of word2vec using numpy"
   ]
  },
  {
   "cell_type": "code",
   "execution_count": 1,
   "metadata": {},
   "outputs": [],
   "source": [
    "import warnings\n",
    "warnings.filterwarnings(action='ignore')\n",
    "\n",
    "import re\n",
    "import sys\n",
    "import numpy as np\n",
    "import pandas as pd\n",
    "from tqdm import tqdm\n",
    "from collections import defaultdict"
   ]
  },
  {
   "cell_type": "code",
   "execution_count": 2,
   "metadata": {},
   "outputs": [],
   "source": [
    "class word2vec():\n",
    "\n",
    "    def __init__(self):\n",
    "        self.n = settings['n']\n",
    "        self.lr = settings['learning_rate']\n",
    "        self.epochs = settings['epochs']\n",
    "        self.window = settings['window_size']\n",
    "\n",
    "    def generate_training_data(self, settings, corpus):\n",
    "        # Find unique word counts using dictonary\n",
    "        word_counts = defaultdict(int)\n",
    "        for row in corpus:\n",
    "            for word in row:\n",
    "                word_counts[word] += 1\n",
    "\n",
    "        self.v_count = len(word_counts.keys())\n",
    "\n",
    "        self.words_list = list(word_counts.keys())\n",
    "\n",
    "        self.word_index = dict((word, i) for i, word in enumerate(self.words_list))\n",
    "\n",
    "        self.index_word = dict((i, word) for i, word in enumerate(self.words_list))\n",
    "\n",
    "        training_data = []\n",
    "        for sentence in corpus:\n",
    "            sent_len = len(sentence)\n",
    "\n",
    "            for i, word in enumerate(sentence):\n",
    "                w_target = self.word2onehot(sentence[i])\n",
    "                w_context = []\n",
    "\n",
    "                for j in range(i - self.window, i + self.window+1):\n",
    "                    if j != i and j <= sent_len-1 and j >= 0:\n",
    "                        w_context.append(self.word2onehot(sentence[j]))\n",
    "\n",
    "                training_data.append([w_target, w_context])\n",
    "\n",
    "        return np.array(training_data)\n",
    "\n",
    "    def word2onehot(self, word):\n",
    "        word_vec = [0 for i in range(0, self.v_count)]\n",
    "\n",
    "        word_index = self.word_index[word]\n",
    "\n",
    "        word_vec[word_index] = 1\n",
    "\n",
    "        return word_vec\n",
    "\n",
    "    def train(self, training_data):\n",
    "        self.w1 = np.array(getW1)\n",
    "        self.w2 = np.array(getW2)\n",
    "\n",
    "        for i in range(self.epochs):\n",
    "            # Intialise loss to 0\n",
    "            self.loss = 0\n",
    "            for w_t, w_c in training_data:\n",
    "                y_pred, h, u = self.forward_pass(w_t)\n",
    "\n",
    "                EI = np.sum([np.subtract(y_pred, word) for word in w_c], axis=0)\n",
    "\n",
    "                self.backprop(EI, h, w_t)\n",
    "                self.loss += -np.sum([u[word.index(1)] for word in w_c]) + len(w_c) * np.log(np.sum(np.exp(u)))\n",
    "\n",
    "            print('Epoch:', i, \"Loss:\", self.loss)\n",
    "\n",
    "    def forward_pass(self, x):\n",
    "        h = np.dot(x, self.w1)\n",
    "        u = np.dot(h, self.w2)\n",
    "        y_c = self.softmax(u)\n",
    "        return y_c, h, u\n",
    "\n",
    "    def softmax(self, x):\n",
    "        e_x = np.exp(x - np.max(x))\n",
    "        return e_x / e_x.sum(axis=0)\n",
    "\n",
    "    def backprop(self, e, h, x):\n",
    "        dl_dw2 = np.outer(h, e)\n",
    "        dl_dw1 = np.outer(x, np.dot(self.w2, e.T))\n",
    "\n",
    "        self.w1 = self.w1 - (self.lr * dl_dw1)\n",
    "        self.w2 = self.w2 - (self.lr * dl_dw2)\n",
    "\n",
    "    def word_vec(self, word):\n",
    "        w_index = self.word_index[word]\n",
    "        v_w = self.w1[w_index]\n",
    "        return v_w\n",
    "\n",
    "    def vec_sim(self, word, top_n):\n",
    "        v_w1 = self.word_vec(word)\n",
    "        word_sim = {}\n",
    "\n",
    "        for i in range(self.v_count):\n",
    "            v_w2 = self.w1[i]\n",
    "            theta_sum = np.dot(v_w1, v_w2)\n",
    "            theta_den = np.linalg.norm(v_w1) * np.linalg.norm(v_w2)\n",
    "            theta = theta_sum / theta_den\n",
    "\n",
    "            word = self.index_word[i]\n",
    "            word_sim[word] = theta\n",
    "\n",
    "        words_sorted = sorted(word_sim.items(), key=lambda kv: kv[1], reverse=True)\n",
    "        for word, sim in words_sorted[:top_n]:\n",
    "            print(word, sim)"
   ]
  },
  {
   "cell_type": "code",
   "execution_count": 3,
   "metadata": {},
   "outputs": [],
   "source": [
    "## Randomly initialise\n",
    "getW1 = [[0.236, -0.962, 0.686, 0.785, -0.454, -0.833, -0.744, 0.677, -0.427, -0.066],\n",
    "        [-0.907, 0.894, 0.225, 0.673, -0.579, -0.428, 0.685, 0.973, -0.070, -0.811],\n",
    "        [-0.576, 0.658, -0.582, -0.112, 0.662, 0.051, -0.401, -0.921, -0.158, 0.529],\n",
    "        [0.517, 0.436, 0.092, -0.835, -0.444, -0.905, 0.879, 0.303, 0.332, -0.275],\n",
    "        [0.859, -0.890, 0.651, 0.185, -0.511, -0.456, 0.377, -0.274, 0.182, -0.237],\n",
    "        [0.368, -0.867, -0.301, -0.222, 0.630, 0.808, 0.088, -0.902, -0.450, -0.408],\n",
    "        [0.728, 0.277, 0.439, 0.138, -0.943, -0.409, 0.687, -0.215, -0.807, 0.612],\n",
    "        [0.593, -0.699, 0.020, 0.142, -0.638, -0.633, 0.344, 0.868, 0.913, 0.429],\n",
    "        [0.447, -0.810, -0.061, -0.495, 0.794, -0.064, -0.817, -0.408, -0.286, 0.149]]\n",
    "\n",
    "getW2 = [[-0.868, -0.406, -0.288, -0.016, -0.560, 0.179, 0.099, 0.438, -0.551],\n",
    "        [-0.395, 0.890, 0.685, -0.329, 0.218, -0.852, -0.919, 0.665, 0.968],\n",
    "        [-0.128, 0.685, -0.828, 0.709, -0.420, 0.057, -0.212, 0.728, -0.690],\n",
    "        [0.881, 0.238, 0.018, 0.622, 0.936, -0.442, 0.936, 0.586, -0.020],\n",
    "        [-0.478, 0.240, 0.820, -0.731, 0.260, -0.989, -0.626, 0.796, -0.599],\n",
    "        [0.679, 0.721, -0.111, 0.083, -0.738, 0.227, 0.560, 0.929, 0.017],\n",
    "        [-0.690, 0.907, 0.464, -0.022, -0.005, -0.004, -0.425, 0.299, 0.757],\n",
    "        [-0.054, 0.397, -0.017, -0.563, -0.551, 0.465, -0.596, -0.413, -0.395],\n",
    "        [-0.838, 0.053, -0.160, -0.164, -0.671, 0.140, -0.149, 0.708, 0.425],\n",
    "        [0.096, -0.995, -0.313, 0.881, -0.402, -0.631, -0.660, 0.184, 0.487]]"
   ]
  },
  {
   "cell_type": "code",
   "execution_count": 8,
   "metadata": {},
   "outputs": [],
   "source": [
    "settings = {\n",
    "    'window_size': 3,           # context window +- center word\n",
    "    'n': 10,                    # dimensions of word embeddings, also refer to size of hidden layer\n",
    "    'epochs': 50,             # number of training epochs\n",
    "    'learning_rate': 0.01       # learning rate\n",
    "}"
   ]
  },
  {
   "cell_type": "code",
   "execution_count": 9,
   "metadata": {},
   "outputs": [],
   "source": [
    "text = \"natural language processing and machine learning is fun and exciting\""
   ]
  },
  {
   "cell_type": "code",
   "execution_count": 10,
   "metadata": {
    "scrolled": true
   },
   "outputs": [
    {
     "name": "stdout",
     "output_type": "stream",
     "text": [
      "Epoch: 0 Loss: 119.65818593710692\n",
      "Epoch: 1 Loss: 116.62024226191745\n",
      "Epoch: 2 Loss: 114.04917631196679\n",
      "Epoch: 3 Loss: 111.84861986765249\n",
      "Epoch: 4 Loss: 109.94539024241644\n",
      "Epoch: 5 Loss: 108.28344255689026\n",
      "Epoch: 6 Loss: 106.81938622674572\n",
      "Epoch: 7 Loss: 105.5192275932522\n",
      "Epoch: 8 Loss: 104.3560203077778\n",
      "Epoch: 9 Loss: 103.30816666968074\n",
      "Epoch: 10 Loss: 102.35817952351488\n",
      "Epoch: 11 Loss: 101.4917695628716\n",
      "Epoch: 12 Loss: 100.69716395032296\n",
      "Epoch: 13 Loss: 99.9645910749294\n",
      "Epoch: 14 Loss: 99.2858861257711\n",
      "Epoch: 15 Loss: 98.65418568371791\n",
      "Epoch: 16 Loss: 98.06368875665049\n",
      "Epoch: 17 Loss: 97.50946801920685\n",
      "Epoch: 18 Loss: 96.98731941783336\n",
      "Epoch: 19 Loss: 96.49364139620639\n",
      "Epoch: 20 Loss: 96.02533720194222\n",
      "Epoch: 21 Loss: 95.57973532953872\n",
      "Epoch: 22 Loss: 95.15452432161283\n",
      "Epoch: 23 Loss: 94.74769901563431\n",
      "Epoch: 24 Loss: 94.357515971943\n",
      "Epoch: 25 Loss: 93.98245631007318\n",
      "Epoch: 26 Loss: 93.62119455588942\n",
      "Epoch: 27 Loss: 93.27257239137603\n",
      "Epoch: 28 Loss: 92.93557642349091\n",
      "Epoch: 29 Loss: 92.60931926390869\n",
      "Epoch: 30 Loss: 92.29302334927957\n",
      "Epoch: 31 Loss: 91.98600704045027\n",
      "Epoch: 32 Loss: 91.68767262543402\n",
      "Epoch: 33 Loss: 91.39749591973838\n",
      "Epoch: 34 Loss: 91.11501721275576\n",
      "Epoch: 35 Loss: 90.83983335322998\n",
      "Epoch: 36 Loss: 90.57159080260406\n",
      "Epoch: 37 Loss: 90.3099795141148\n",
      "Epoch: 38 Loss: 90.054727519208\n",
      "Epoch: 39 Loss: 89.80559612230977\n",
      "Epoch: 40 Loss: 89.56237562105328\n",
      "Epoch: 41 Loss: 89.32488148241177\n",
      "Epoch: 42 Loss: 89.0929509163577\n",
      "Epoch: 43 Loss: 88.86643979807403\n",
      "Epoch: 44 Loss: 88.64521989771725\n",
      "Epoch: 45 Loss: 88.42917638352279\n",
      "Epoch: 46 Loss: 88.21820556985475\n",
      "Epoch: 47 Loss: 88.0122128867742\n",
      "Epoch: 48 Loss: 87.81111105194888\n",
      "Epoch: 49 Loss: 87.61481842933023\n"
     ]
    }
   ],
   "source": [
    "corpus = [[word.lower() for word in text.split()]]\n",
    "w2v = word2vec()\n",
    "\n",
    "training_data = w2v.generate_training_data(settings, corpus)\n",
    "w2v.train(training_data)"
   ]
  },
  {
   "cell_type": "code",
   "execution_count": 11,
   "metadata": {},
   "outputs": [
    {
     "name": "stdout",
     "output_type": "stream",
     "text": [
      "machine [ 0.85508876 -0.70708184  0.79919777  0.00759425 -0.12248265 -0.39324106\n",
      "  0.5802936   0.01742696  0.16704509 -0.46931715]\n",
      "\n",
      "machine 1.0\n",
      "and 0.6133790185534155\n",
      "natural 0.5027479803811664\n",
      "fun 0.41469457323438896\n",
      "is 0.37156064344490086\n"
     ]
    }
   ],
   "source": [
    "# Get vector for word\n",
    "word = \"machine\"\n",
    "vec = w2v.word_vec(word)\n",
    "print(word, vec)\n",
    "\n",
    "print()\n",
    "\n",
    "# Find similar words\n",
    "w2v.vec_sim(\"machine\", 5)"
   ]
  },
  {
   "cell_type": "code",
   "execution_count": 7,
   "metadata": {},
   "outputs": [
    {
     "name": "stdout",
     "output_type": "stream",
     "text": [
      "machine [ 1.17935753 -1.31396665  1.51816169 -0.32881615 -0.04215376 -0.28818402\n",
      "  0.62616027  0.34787486 -0.01300727 -0.83572361]\n",
      "\n",
      "machine 0.9999999999999999\n",
      "natural 0.533821416293253\n",
      "exciting 0.30790584432397805\n",
      "fun 0.14056977204437102\n",
      "learning 0.13235136587722043\n"
     ]
    }
   ],
   "source": [
    "# Get vector for word\n",
    "word = \"machine\"\n",
    "vec = w2v.word_vec(word)\n",
    "print(word, vec)\n",
    "\n",
    "print()\n",
    "\n",
    "# Find similar words\n",
    "w2v.vec_sim(\"machine\", 5)"
   ]
  }
 ],
 "metadata": {
  "kernelspec": {
   "display_name": "Python 3 (ipykernel)",
   "language": "python",
   "name": "python3"
  },
  "language_info": {
   "codemirror_mode": {
    "name": "ipython",
    "version": 3
   },
   "file_extension": ".py",
   "mimetype": "text/x-python",
   "name": "python",
   "nbconvert_exporter": "python",
   "pygments_lexer": "ipython3",
   "version": "3.10.8"
  },
  "vscode": {
   "interpreter": {
    "hash": "26de051ba29f2982a8de78e945f0abaf191376122a1563185a90213a26c5da77"
   }
  }
 },
 "nbformat": 4,
 "nbformat_minor": 2
}
