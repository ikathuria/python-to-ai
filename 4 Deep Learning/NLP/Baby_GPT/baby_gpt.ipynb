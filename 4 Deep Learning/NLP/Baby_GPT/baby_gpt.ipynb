{
 "cells": [
  {
   "cell_type": "markdown",
   "id": "9644b5fe",
   "metadata": {},
   "source": [
    "\n",
    "## GPT from scratch in PyTorch\n"
   ]
  },
  {
   "cell_type": "code",
   "execution_count": null,
   "id": "fd998537",
   "metadata": {},
   "outputs": [],
   "source": [
    "import numpy as np\n",
    "import torch\n",
    "import torch.nn as nn\n",
    "from torch.nn import functional as F"
   ]
  },
  {
   "cell_type": "code",
   "execution_count": null,
   "id": "f5ef4475",
   "metadata": {},
   "outputs": [],
   "source": [
    "\n",
    "torch.manual_seed(256)\n",
    "device = 'cuda' if torch.cuda.is_available() else 'cpu'\n",
    "\n",
    "block_size        = 40      ## N tokens in sequence\n",
    "batch_size        = 64 \n",
    "max_iters         = 6000\n",
    "eval_interval     = 500     \n",
    "learning_rate     = 0.0003\n",
    "eval_iters        = 300\n",
    "vocab_size        = 88  ## 65\n",
    "\n",
    "## every id for a given token is embedded to vector of this size\n",
    "n_embd            = 512                  \n",
    "n_head            = 8         ## 8 attention heads\n",
    "n_layer           = 6         ## 6 eoncoder layers\n",
    "dropout           = 0.2\n"
   ]
  },
  {
   "cell_type": "code",
   "execution_count": null,
   "id": "2849b23c",
   "metadata": {},
   "outputs": [],
   "source": [
    "\n",
    "text = ''\n",
    "\n",
    "input_file2 = 'HuckFinn.txt'\n",
    "\n",
    "with open(input_file2, 'r', encoding='utf-8') as f:\n",
    "    text = f.read()\n"
   ]
  },
  {
   "cell_type": "code",
   "execution_count": null,
   "id": "1ee15f86",
   "metadata": {},
   "outputs": [],
   "source": [
    "\n",
    "print(\"length of data in letter or characters\")\n",
    "len(text)\n",
    "\n",
    "\n"
   ]
  },
  {
   "cell_type": "code",
   "execution_count": null,
   "id": "b283be76",
   "metadata": {},
   "outputs": [],
   "source": [
    "\n",
    "list(set(text))\n"
   ]
  },
  {
   "cell_type": "code",
   "execution_count": null,
   "id": "a1fbd2a2",
   "metadata": {},
   "outputs": [],
   "source": [
    "\n",
    "the_chars  = sorted(     list(set(text))     )\n",
    "\n",
    "vocab_size = len( the_chars )      ## 65\n",
    "\n",
    "print(  len(the_chars)  )\n",
    "\n",
    "print(  ''.join(the_chars)  )\n",
    "\n",
    "## The printed oputput\n",
    "## !$&',-.3:;?ABCDEFGHIJKLMNOPQRSTUVWXYZabcdefghijklmnopqrstuvwxyz\n",
    "\n"
   ]
  },
  {
   "cell_type": "code",
   "execution_count": null,
   "id": "dbd6792d",
   "metadata": {},
   "outputs": [],
   "source": [
    "\n",
    "stoi = { ch:i for i, ch in enumerate(the_chars) }\n",
    "itos = { i:ch for i, ch in enumerate(the_chars) }\n"
   ]
  },
  {
   "cell_type": "code",
   "execution_count": null,
   "id": "2c6f5989",
   "metadata": {},
   "outputs": [],
   "source": [
    "\n",
    "print( stoi )\n",
    "print( itos )\n"
   ]
  },
  {
   "cell_type": "code",
   "execution_count": null,
   "id": "d4e0a86f",
   "metadata": {},
   "outputs": [],
   "source": [
    "\n",
    "encode = lambda s: [ stoi[c]          for c in s   ] \n",
    "\n",
    "encode(\"bahh\")\n"
   ]
  },
  {
   "cell_type": "code",
   "execution_count": null,
   "id": "ec4f776f",
   "metadata": {},
   "outputs": [],
   "source": [
    "\n",
    "decode = lambda l: ''.join(   itos[i] for i in l   )    \n",
    "\n",
    "decode([55, 54, 61, 61])\n",
    "\n"
   ]
  },
  {
   "cell_type": "code",
   "execution_count": null,
   "id": "14091bc3",
   "metadata": {},
   "outputs": [],
   "source": [
    "\n",
    "data = torch.tensor(   encode(text), dtype=torch.long   )\n",
    "\n",
    "print( data )\n"
   ]
  },
  {
   "cell_type": "code",
   "execution_count": null,
   "id": "15111645",
   "metadata": {},
   "outputs": [],
   "source": [
    "\n",
    "n          = int(   0.9*len(data)   )\n",
    "\n",
    "train_data = data[:n]\n",
    "val_data   = data[n:]\n"
   ]
  },
  {
   "cell_type": "code",
   "execution_count": null,
   "id": "bff7ae6c",
   "metadata": {},
   "outputs": [],
   "source": [
    "\n",
    "def get_batch(split):\n",
    "    if split == \"train\":\n",
    "        data = train_data\n",
    "    else:\n",
    "        data = val_data\n",
    "        \n",
    "    ix = torch.randint(   len(data) - block_size, (batch_size,)   )\n",
    "    \n",
    "    x  = torch.stack(    [  data[   i : i+block_size ]     for i in ix ]    ) \n",
    "    y  = torch.stack(    [  data[ i+1 : i+1+block_size ]   for i in ix ]    )\n",
    "    \n",
    "    x, y = x.to(device), y.to(device)\n",
    "\n",
    "    return x, y\n"
   ]
  },
  {
   "cell_type": "code",
   "execution_count": null,
   "id": "eb11fcf8",
   "metadata": {},
   "outputs": [],
   "source": [
    "\n",
    "temp_batch_size = 4\n",
    "temp_block_size = 16\n",
    "\n",
    "## select random starting points for the 4 sentences\n",
    "ix = torch.randint(   \n",
    "            len(data) - block_size, \n",
    "            (temp_batch_size,)   \n",
    ")\n",
    "\n",
    "print( ix )\n"
   ]
  },
  {
   "cell_type": "code",
   "execution_count": null,
   "id": "18713538",
   "metadata": {},
   "outputs": [],
   "source": [
    "\n",
    "for index_temp in ix:\n",
    "    print(  data[index_temp]  )\n",
    "\n"
   ]
  },
  {
   "cell_type": "code",
   "execution_count": null,
   "id": "c67d3511",
   "metadata": {},
   "outputs": [],
   "source": [
    "\n",
    "x  = torch.stack(    \n",
    "    [ data[   i : i+  temp_block_size ]   for i in ix ] \n",
    "    \n",
    ") \n",
    "\n",
    "y  = torch.stack(    \n",
    "    [ data[ i+1 : i+1+ temp_block_size ]  for i in ix ]    \n",
    ")\n",
    "\n",
    "print(x)\n",
    "print(y)\n",
    "\n"
   ]
  },
  {
   "cell_type": "code",
   "execution_count": null,
   "id": "c58677ef",
   "metadata": {},
   "outputs": [],
   "source": [
    "\n",
    "@torch.no_grad()    ## for efficient processing\n",
    "def estimate_loss():\n",
    "    out = {}\n",
    "    model.eval()   ## set to no training\n",
    "    for split in ['train', 'val']:\n",
    "        losses = torch.zeros(eval_iters)\n",
    "        for k in range(eval_iters):\n",
    "            X, Y = get_batch(split)\n",
    "            logits, loss = model(X, Y)\n",
    "            losses[k] = loss.item()\n",
    "        out[split] = losses.mean()\n",
    "    model.train()  ## back to training\n",
    "    return out\n",
    "\n"
   ]
  },
  {
   "cell_type": "markdown",
   "id": "01742ea3",
   "metadata": {},
   "source": [
    "\n",
    "## NN Architectures\n"
   ]
  },
  {
   "cell_type": "code",
   "execution_count": null,
   "id": "01cc1335",
   "metadata": {},
   "outputs": [],
   "source": [
    "\n",
    "class Head(nn.Module):\n",
    "\n",
    "    def __init__(self, head_size):\n",
    "        super().__init__()\n",
    "        \n",
    "        self.key   = nn.Linear(n_embd, head_size, bias=False)  ## [512, 64]\n",
    "        self.query = nn.Linear(n_embd, head_size, bias=False)  ## [512, 64]\n",
    "        self.value = nn.Linear(n_embd, head_size, bias=False)  ## [512, 64]\n",
    "\n",
    "        tril_def = torch.tril( torch.ones(block_size, block_size) )  ## [40, 40]\n",
    "        \n",
    "        self.register_buffer(\n",
    "                  'tril', \n",
    "                  tril_def\n",
    "               )\n",
    "        \n",
    "        self.dropout = nn.Dropout(dropout)\n",
    "\n",
    "    def forward(self, x):\n",
    "        \n",
    "        B, T, E = x.shape   ## [batch_size, 40, 512]\n",
    "        \n",
    "        k = self.key(   x )            ## k = (B, T, 64)\n",
    "        q = self.query( x )            ## q = (B, T, 64)\n",
    "\n",
    "        E2 = 64     ## I think this is 64 and not 512\n",
    "        ## (B, T, E) @ (B, E, T)  -> (B, T, T)\n",
    "        wei = q @ k.transpose(-2, -1) * E2 ** -0.5        \n",
    "        \n",
    "        wei = wei.masked_fill(\n",
    "                      self.tril[:T, :T] == 0, \n",
    "                      float('-inf')\n",
    "        )   \n",
    "        \n",
    "        ## (B, T, T)\n",
    "        wei = F.softmax( wei, dim= -1 )         ## (B, T, T)\n",
    "        wei = self.dropout(   wei   )\n",
    "        \n",
    "        ## perform weighted aggregation of values\n",
    "        \n",
    "        v   = self.value(  x  )   ## x = (B, 40, E)\n",
    "        out = wei @ v             ## (B, T, T) @ (B, T, 64) -> (B, T, 64)\n",
    "        \n",
    "        return out\n",
    "        \n"
   ]
  },
  {
   "cell_type": "code",
   "execution_count": null,
   "id": "76ae3afc",
   "metadata": {},
   "outputs": [],
   "source": [
    "\n",
    "\n",
    "class FeedForward(nn.Module):\n",
    "\n",
    "    def __init__(self, n_embd):         ## 512\n",
    "        \n",
    "        super().__init__()\n",
    "        self.net = nn.Sequential(\n",
    "            nn.Linear(n_embd, 4 * n_embd),      ## [512, 4*512]\n",
    "            nn.ReLU(),\n",
    "            nn.Linear(4 * n_embd, n_embd),      ## [4*512, 512]\n",
    "            nn.Dropout(dropout),\n",
    "        )\n",
    "        \n",
    "    def forward(self, x):\n",
    "        return self.net(x)\n"
   ]
  },
  {
   "cell_type": "code",
   "execution_count": null,
   "id": "fe67e996",
   "metadata": {},
   "outputs": [],
   "source": [
    "\n",
    "class MultiHeadAttention(nn.Module):\n",
    "\n",
    "    def __init__(self, num_heads, head_size):    ## (8, 64)\n",
    "        super().__init__()\n",
    "        self.heads = nn.ModuleList(  [ Head(head_size) for _ in range(num_heads) ] )\n",
    "        self.proj  = nn.Linear(n_embd, n_embd)   ## 512, 512\n",
    "        self.dropout = nn.Dropout(dropout)\n",
    "    \n",
    "    def forward(self, x):\n",
    "        out = torch.cat(   [ h(x) for h in self.heads ], dim = -1   )\n",
    "        out = self.proj(  out   )\n",
    "        out = self.dropout(   out   )\n",
    "        return out\n",
    "\n"
   ]
  },
  {
   "cell_type": "code",
   "execution_count": null,
   "id": "a52f09aa",
   "metadata": {},
   "outputs": [],
   "source": [
    "\n",
    "class Block(nn.Module):\n",
    "    \n",
    "    def __init__(self, n_embd, n_head):     ## (512, 8)\n",
    "        super().__init__()\n",
    "        head_size = n_embd // n_head        ## 64\n",
    "        self.sa   = MultiHeadAttention(n_head, head_size)\n",
    "        self.ffwd = FeedForward( n_embd)    ## 512\n",
    "        self.ln1  = nn.LayerNorm(n_embd)\n",
    "        self.ln2  = nn.LayerNorm(n_embd)\n",
    "        \n",
    "    def forward(self, x):\n",
    "        x = x + self.sa(     self.ln1(x)      )\n",
    "        x = x + self.ffwd(   self.ln2(x)      )\n",
    "        return x\n"
   ]
  },
  {
   "cell_type": "code",
   "execution_count": null,
   "id": "2727b288",
   "metadata": {},
   "outputs": [],
   "source": [
    "\n",
    "class GPTModel(nn.Module):\n",
    "    def __init__(self):\n",
    "        super().__init__()\n",
    "        self.token_embedding_table = nn.Embedding(vocab_size, n_embd)   ## [65, 512]\n",
    "        self.pos_emb_table = nn.Embedding(block_size, n_embd)     ## [block, 512]\n",
    "        \n",
    "        self.blocks = nn.Sequential(\n",
    "                *[   Block(n_embd, n_head=n_head) for _ in range(n_layer)    ]\n",
    "        )\n",
    "        \n",
    "        self.ln_f    = nn.LayerNorm(  n_embd    )        \n",
    "        self.lm_ffw_head = nn.Linear(n_embd, vocab_size)  ## [512, 65] # FFW Layer\n",
    "        \n",
    "    def forward(self, idx, targets=None):\n",
    "        B, T = idx.shape     ## (Batch, 40)\n",
    "        ## ids and targets are both (B, T) tensors of integers\n",
    "        \n",
    "        tok_emb = self.token_embedding_table(idx)      \n",
    "        pos_emb = self.pos_emb_table(torch.arange(T, device=device))  \n",
    "        \n",
    "        x = tok_emb + pos_emb    ## [B, T, E] or [64, 40, 512]\n",
    "\n",
    "        ## This is the architecture\n",
    "        x = self.blocks(  x  )   ## (B, T, E)        \n",
    "        x = self.ln_f(    x  )   ## (B, T, E)   ## norm\n",
    "        logits = self.lm_ffw_head(x)         ## [B, 40, 65] \n",
    "        \n",
    "        if targets is None:\n",
    "            loss = None\n",
    "        else:\n",
    "            B, T, E  = logits.shape\n",
    "            logits  = logits.view( B*T, E)\n",
    "            targets = targets.view(B*T)\n",
    "            loss    = F.cross_entropy(logits, targets)\n",
    "        return logits, loss\n",
    "        \n",
    "    def generate(self, idx, max_new_tokens):    ## idx is (B, T)\n",
    "        for _ in range(max_new_tokens):\n",
    "            ## crop idx to the last block_size tokens\n",
    "            idx_cond = idx[:, -block_size:]\n",
    "            logits, loss = self(idx_cond)    ## ## get preds\n",
    "            logits = logits[:, -1, :]    ## focus on last one (B, E)\n",
    "            probs = F.softmax(logits, dim= -1)    ## (B, E) get probs\n",
    "            idx_next = torch.multinomial(probs, num_samples=1)     ## (B, 1) selected\n",
    "            idx = torch.cat(  (idx, idx_next), dim=1  )   ## (B, T+1) append sample to running sequence\n",
    "        return idx\n",
    "            \n"
   ]
  },
  {
   "cell_type": "code",
   "execution_count": null,
   "id": "1b674c77",
   "metadata": {},
   "outputs": [],
   "source": [
    "\n",
    "model   = GPTModel()\n",
    "\n",
    "m       = model.to(device)\n",
    "\n",
    "optimizer = torch.optim.Adam(  m.parameters(), lr=learning_rate   )\n",
    "\n"
   ]
  },
  {
   "cell_type": "code",
   "execution_count": null,
   "id": "13fac071",
   "metadata": {},
   "outputs": [],
   "source": [
    "\n",
    "\n",
    "for iter in range(max_iters):\n",
    "    \n",
    "    if iter % eval_interval == 0:\n",
    "        losses = estimate_loss()\n",
    "        print(f\"step {iter}: train loss {losses['train']:.4f}, val loss {losses['val']:.4f}\")\n",
    "\n",
    "    xb, yb = get_batch('train')\n",
    "    \n",
    "    ## eval the loss\n",
    "    logits, loss = m(xb, yb)\n",
    "    \n",
    "    optimizer.zero_grad(set_to_none=True)   ## zero out\n",
    "    loss.backward()\n",
    "    optimizer.step()\n"
   ]
  },
  {
   "cell_type": "code",
   "execution_count": null,
   "id": "8be5cacb",
   "metadata": {},
   "outputs": [],
   "source": [
    "\n",
    "\n",
    "## Starting token  id_sos = 0\n",
    "sos_context = torch.zeros(  (1, 1),  dtype=torch.long, device=device   )   \n",
    "\n",
    "generated_text = m.generate(sos_context, max_new_tokens=500)[0].tolist()\n",
    "\n",
    "print(  decode(generated_text)   )\n",
    "\n"
   ]
  },
  {
   "cell_type": "code",
   "execution_count": null,
   "id": "0992ae2a",
   "metadata": {},
   "outputs": [],
   "source": [
    "\n",
    "sos_context = torch.ones(  (1, 1),  dtype=torch.long, device=device   )   \n",
    "\n",
    "generated_text = m.generate(sos_context, max_new_tokens=500)[0].tolist()\n",
    "\n",
    "print(  decode(generated_text)   )\n"
   ]
  },
  {
   "cell_type": "code",
   "execution_count": null,
   "id": "1452a762",
   "metadata": {},
   "outputs": [],
   "source": [
    "\n",
    "new_lst = encode(\"Where is Huck?\")\n"
   ]
  },
  {
   "cell_type": "code",
   "execution_count": null,
   "id": "b581fdf9",
   "metadata": {},
   "outputs": [],
   "source": [
    "\n",
    "new_np = np.array(  new_lst   )\n",
    "new_np\n"
   ]
  },
  {
   "cell_type": "code",
   "execution_count": null,
   "id": "58105edb",
   "metadata": {},
   "outputs": [],
   "source": [
    "\n",
    "new_context = torch.tensor(new_np, dtype=torch.long, device=device )\n",
    "\n",
    "\n",
    "new_context = new_context.view( (1, -1))\n",
    "new_context \n"
   ]
  },
  {
   "cell_type": "code",
   "execution_count": null,
   "id": "bd205697",
   "metadata": {},
   "outputs": [],
   "source": [
    "\n",
    "generated_text = m.generate(new_context, max_new_tokens=500)[0].tolist()\n",
    "\n",
    "print(  decode(generated_text)   )\n"
   ]
  },
  {
   "cell_type": "markdown",
   "id": "a16989b7",
   "metadata": {},
   "source": [
    "\n",
    "## Figuring out dimensions\n"
   ]
  },
  {
   "cell_type": "code",
   "execution_count": null,
   "id": "c883349f",
   "metadata": {},
   "outputs": [],
   "source": [
    "\n",
    "new_context.shape\n"
   ]
  },
  {
   "cell_type": "code",
   "execution_count": null,
   "id": "0df7379e",
   "metadata": {},
   "outputs": [],
   "source": [
    "\n",
    "sos_context_tmp = torch.ones(  (1, 1),  dtype=torch.long, device=device   ) \n",
    "sos_context_tmp.shape\n"
   ]
  },
  {
   "cell_type": "code",
   "execution_count": null,
   "id": "a551f9bc",
   "metadata": {},
   "outputs": [],
   "source": [
    "\n"
   ]
  },
  {
   "cell_type": "code",
   "execution_count": null,
   "id": "17f28116",
   "metadata": {},
   "outputs": [],
   "source": []
  },
  {
   "cell_type": "code",
   "execution_count": null,
   "id": "05e7fefd",
   "metadata": {},
   "outputs": [],
   "source": []
  },
  {
   "cell_type": "code",
   "execution_count": null,
   "id": "6cfe5408",
   "metadata": {},
   "outputs": [],
   "source": []
  },
  {
   "cell_type": "code",
   "execution_count": null,
   "id": "dbe08e78",
   "metadata": {},
   "outputs": [],
   "source": []
  },
  {
   "cell_type": "code",
   "execution_count": null,
   "id": "7f8d9c42",
   "metadata": {},
   "outputs": [],
   "source": []
  },
  {
   "cell_type": "code",
   "execution_count": null,
   "id": "8ac1a62f",
   "metadata": {},
   "outputs": [],
   "source": []
  },
  {
   "cell_type": "code",
   "execution_count": null,
   "id": "c426f3f6",
   "metadata": {},
   "outputs": [],
   "source": []
  },
  {
   "cell_type": "code",
   "execution_count": null,
   "id": "ca7d4bfe",
   "metadata": {},
   "outputs": [],
   "source": []
  },
  {
   "cell_type": "code",
   "execution_count": null,
   "id": "4b28825c",
   "metadata": {},
   "outputs": [],
   "source": []
  },
  {
   "cell_type": "code",
   "execution_count": null,
   "id": "c737378f",
   "metadata": {},
   "outputs": [],
   "source": []
  }
 ],
 "metadata": {
  "kernelspec": {
   "display_name": ".venv",
   "language": "python",
   "name": "python3"
  },
  "language_info": {
   "codemirror_mode": {
    "name": "ipython",
    "version": 3
   },
   "file_extension": ".py",
   "mimetype": "text/x-python",
   "name": "python",
   "nbconvert_exporter": "python",
   "pygments_lexer": "ipython3",
   "version": "3.12.6"
  }
 },
 "nbformat": 4,
 "nbformat_minor": 5
}
