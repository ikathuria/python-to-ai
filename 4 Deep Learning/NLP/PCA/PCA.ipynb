{
 "cells": [
  {
   "cell_type": "code",
   "execution_count": 1,
   "metadata": {},
   "outputs": [],
   "source": [
    "import pandas as pd\n",
    "import numpy as np\n",
    "import seaborn as sb\n",
    "from sklearn import preprocessing\n",
    "import matplotlib.pyplot as plt\n",
    "from sklearn.model_selection import train_test_split\n",
    "from sklearn.linear_model import LinearRegression\n",
    "from sklearn.metrics import r2_score"
   ]
  },
  {
   "cell_type": "code",
   "execution_count": 2,
   "metadata": {},
   "outputs": [
    {
     "name": "stdout",
     "output_type": "stream",
     "text": [
      "     car_ID  symboling                   CarName fueltype aspiration  \\\n",
      "0         1          3        alfa-romero giulia      gas        std   \n",
      "1         2          3       alfa-romero stelvio      gas        std   \n",
      "2         3          1  alfa-romero Quadrifoglio      gas        std   \n",
      "3         4          2               audi 100 ls      gas        std   \n",
      "4         5          2                audi 100ls      gas        std   \n",
      "..      ...        ...                       ...      ...        ...   \n",
      "200     201         -1           volvo 145e (sw)      gas        std   \n",
      "201     202         -1               volvo 144ea      gas      turbo   \n",
      "202     203         -1               volvo 244dl      gas        std   \n",
      "203     204         -1                 volvo 246   diesel      turbo   \n",
      "204     205         -1               volvo 264gl      gas      turbo   \n",
      "\n",
      "    doornumber      carbody drivewheel enginelocation  wheelbase  ...  \\\n",
      "0          two  convertible        rwd          front       88.6  ...   \n",
      "1          two  convertible        rwd          front       88.6  ...   \n",
      "2          two    hatchback        rwd          front       94.5  ...   \n",
      "3         four        sedan        fwd          front       99.8  ...   \n",
      "4         four        sedan        4wd          front       99.4  ...   \n",
      "..         ...          ...        ...            ...        ...  ...   \n",
      "200       four        sedan        rwd          front      109.1  ...   \n",
      "201       four        sedan        rwd          front      109.1  ...   \n",
      "202       four        sedan        rwd          front      109.1  ...   \n",
      "203       four        sedan        rwd          front      109.1  ...   \n",
      "204       four        sedan        rwd          front      109.1  ...   \n",
      "\n",
      "     enginesize  fuelsystem  boreratio  stroke compressionratio horsepower  \\\n",
      "0           130        mpfi       3.47    2.68              9.0        111   \n",
      "1           130        mpfi       3.47    2.68              9.0        111   \n",
      "2           152        mpfi       2.68    3.47              9.0        154   \n",
      "3           109        mpfi       3.19    3.40             10.0        102   \n",
      "4           136        mpfi       3.19    3.40              8.0        115   \n",
      "..          ...         ...        ...     ...              ...        ...   \n",
      "200         141        mpfi       3.78    3.15              9.5        114   \n",
      "201         141        mpfi       3.78    3.15              8.7        160   \n",
      "202         173        mpfi       3.58    2.87              8.8        134   \n",
      "203         145         idi       3.01    3.40             23.0        106   \n",
      "204         141        mpfi       3.78    3.15              9.5        114   \n",
      "\n",
      "     peakrpm citympg  highwaympg    price  \n",
      "0       5000      21          27  13495.0  \n",
      "1       5000      21          27  16500.0  \n",
      "2       5000      19          26  16500.0  \n",
      "3       5500      24          30  13950.0  \n",
      "4       5500      18          22  17450.0  \n",
      "..       ...     ...         ...      ...  \n",
      "200     5400      23          28  16845.0  \n",
      "201     5300      19          25  19045.0  \n",
      "202     5500      18          23  21485.0  \n",
      "203     4800      26          27  22470.0  \n",
      "204     5400      19          25  22625.0  \n",
      "\n",
      "[205 rows x 26 columns]\n"
     ]
    }
   ],
   "source": [
    "df = pd.read_csv(\"CarPrice_1.csv\", encoding='unicode_escape')\n",
    "print(df)"
   ]
  },
  {
   "cell_type": "code",
   "execution_count": 3,
   "metadata": {},
   "outputs": [],
   "source": [
    "label_encoder = preprocessing.LabelEncoder()\n",
    "cols_tbe = [\n",
    "    'CarName', 'fueltype', 'aspiration', 'doornumber', 'carbody',\n",
    "    'drivewheel', 'enginelocation', 'fuelsystem', 'enginetype', 'cylindernumber'\n",
    "]\n",
    "for col_tbe in cols_tbe:\n",
    "    df[col_tbe] = df[col_tbe].astype('|S')\n",
    "    df[col_tbe] = label_encoder.fit_transform(df[col_tbe])"
   ]
  },
  {
   "cell_type": "code",
   "execution_count": 4,
   "metadata": {},
   "outputs": [],
   "source": [
    "X = df.iloc[:, 0:-1].values\n",
    "y = df.iloc[:, -1].values\n"
   ]
  },
  {
   "cell_type": "code",
   "execution_count": 5,
   "metadata": {},
   "outputs": [],
   "source": [
    "X_std = preprocessing.StandardScaler().fit_transform(X)\n",
    "cov_m = np.cov(X_std, rowvar=False)\n",
    "cov_m = np.cov(X_std.T)"
   ]
  },
  {
   "cell_type": "code",
   "execution_count": 6,
   "metadata": {},
   "outputs": [],
   "source": [
    "eig_vals, eig_vecs = np.linalg.eig(cov_m)\n",
    "eig_pairs = [(np.abs(eig_vals[i]), eig_vecs[:, i])\n",
    "             for i in range(len(eig_vals))]\n",
    "eig_pairs.sort()\n",
    "eig_pairs.reverse()\n",
    "tot = sum(eig_vals)"
   ]
  },
  {
   "cell_type": "code",
   "execution_count": 7,
   "metadata": {},
   "outputs": [
    {
     "name": "stdout",
     "output_type": "stream",
     "text": [
      "[[-0.0530612  -0.15780729  0.28115162 -0.53681608  0.13036998 -0.03732289\n",
      "   0.05225645  0.10738291 -0.16251955  0.10472156 -0.12181581 -0.01884533\n",
      "   0.11975285 -0.00862808  0.03114072]\n",
      " [ 0.1026303   0.31355768 -0.18892533 -0.18999802  0.11491157  0.01310962\n",
      "   0.09851927  0.03120614  0.12207976  0.3732364   0.45975907  0.03660834\n",
      "  -0.17640076 -0.31964258  0.02910911]\n",
      " [-0.0079138  -0.14621159  0.30767919 -0.54016941  0.11960665 -0.10280223\n",
      "   0.03306223  0.10245291 -0.15855527  0.05287005 -0.0687729  -0.02773764\n",
      "   0.12285491 -0.06851904  0.03529164]\n",
      " [ 0.06343377  0.30075472  0.42985834  0.18421945  0.15860263  0.08630833\n",
      "  -0.02501238  0.11627602 -0.08854286 -0.13806603  0.0146322  -0.10721662\n",
      "   0.03961976  0.07348241 -0.0429382 ]\n",
      " [-0.12335074 -0.07556525 -0.24502515 -0.09388303  0.25699314 -0.25018326\n",
      "   0.52472881 -0.28474162  0.26283937 -0.37137005 -0.14272723 -0.20469235\n",
      "   0.11287209  0.09504438  0.00393131]\n",
      " [ 0.0934437   0.31867252 -0.2491698  -0.16050996  0.10960127  0.0961637\n",
      "   0.00272422  0.17072679  0.16481047  0.18673781 -0.07950168 -0.36154576\n",
      "   0.27004183 -0.00465274 -0.521416  ]\n",
      " [-0.06354175 -0.3031372   0.25203116  0.23985095 -0.09864347 -0.29034493\n",
      "   0.0678007  -0.12185213  0.01135716 -0.00909978  0.08972505  0.18330364\n",
      "  -0.01416986 -0.27473858 -0.55399227]\n",
      " [-0.21485835  0.10507454 -0.11824882 -0.13301459 -0.15159419 -0.13387059\n",
      "  -0.48166775  0.17591303  0.18733343 -0.1104043  -0.31518832 -0.19095279\n",
      "  -0.27340868  0.23263423 -0.06952439]\n",
      " [-0.02205021  0.17230812  0.00400041 -0.24444257 -0.3100692   0.17009919\n",
      "  -0.15173169 -0.69987692 -0.24769425 -0.0777181   0.15093941 -0.11146045\n",
      "  -0.01531009  0.1492345   0.03868799]\n",
      " [-0.29682597 -0.1891876   0.01082356  0.12019787  0.00328187 -0.00714573\n",
      "  -0.11023771  0.10383384  0.07210539  0.11586879 -0.07194639 -0.1896809\n",
      "   0.01601137  0.08780835  0.08150234]\n",
      " [-0.331544   -0.09295233  0.05231269  0.05503738  0.00265558 -0.01864321\n",
      "  -0.06517613  0.04030143  0.02702477  0.16457729  0.12453295  0.00329917\n",
      "  -0.02590504 -0.06522203  0.10173349]\n",
      " [-0.31851996 -0.02295248 -0.08553813  0.0687795   0.01531024  0.08124644\n",
      "   0.05503029  0.05908414 -0.01046075  0.25349043 -0.21550889  0.07685628\n",
      "   0.087387   -0.18738102  0.15980031]\n",
      " [-0.12469793 -0.32598997  0.181645    0.07701304 -0.01859687  0.0883334\n",
      "  -0.04929825 -0.18768773  0.09310849  0.30234809  0.29204896 -0.5118956\n",
      "   0.03495022  0.18129944 -0.2142144 ]\n",
      " [-0.34640945  0.01247936 -0.06636994  0.01937344 -0.02956133  0.01487405\n",
      "  -0.01340535  0.02232387  0.00689623  0.03104211  0.04878788  0.05381189\n",
      "   0.18524017 -0.04520282  0.01412069]\n",
      " [ 0.02036869  0.08733365  0.05226059  0.03002454 -0.57670149  0.11211944\n",
      "   0.58324745  0.17910115 -0.19966561  0.22250793 -0.26438827 -0.09455487\n",
      "  -0.18716219  0.14847659 -0.08823758]\n",
      " [ 0.02740123  0.16072567  0.04441096 -0.1085024  -0.4658034  -0.60661576\n",
      "  -0.07979664  0.21809133  0.07132737 -0.16127926  0.31630803 -0.04225432\n",
      "   0.21259883  0.00775265  0.04373889]\n",
      " [-0.29584763  0.11009256 -0.10876697  0.0280114  -0.08445019  0.23494281\n",
      "  -0.09325799  0.04893713 -0.26307578 -0.05238435  0.00081327  0.20232254\n",
      "   0.30561231 -0.03971181 -0.20765255]\n",
      " [-0.24357732  0.14185297  0.04107298 -0.14615544  0.22189315 -0.14966472\n",
      "   0.09644261 -0.03504066  0.05019387  0.15187617  0.121598    0.420614\n",
      "  -0.41059682  0.51191172 -0.27930545]\n",
      " [-0.26026378  0.04254707  0.07870152 -0.18275351 -0.07524848  0.19258348\n",
      "   0.0309498   0.04013579  0.05657499 -0.3794869   0.01804963 -0.18475222\n",
      "  -0.50565602 -0.52070839 -0.14970487]\n",
      " [-0.05581794 -0.03035232 -0.33128403  0.12589933  0.24732628 -0.3208333\n",
      "  -0.00873769  0.09617442 -0.7579762  -0.01931114  0.08038565 -0.27074253\n",
      "  -0.17599271 -0.01442048 -0.03179923]\n",
      " [-0.03835019 -0.29939384 -0.40967888 -0.20771037 -0.21004569 -0.08372659\n",
      "  -0.04637802 -0.10088519  0.08448522  0.19575176 -0.04427569  0.15759426\n",
      "  -0.0023703  -0.11314956  0.03741159]\n",
      " [-0.27209385  0.25262775 -0.00297277 -0.03604465  0.00109812 -0.02097746\n",
      "   0.00274511 -0.15067697 -0.08784504 -0.10927496 -0.10249807  0.18345911\n",
      "   0.30160117 -0.08159394 -0.21797619]\n",
      " [ 0.09035767  0.25936598  0.17026343  0.11456868  0.06695469 -0.37981432\n",
      "  -0.13021703 -0.3721278   0.01779879  0.37237537 -0.47228859 -0.05574206\n",
      "  -0.09185524 -0.26069546  0.0278362 ]\n",
      " [ 0.28600916 -0.22350881 -0.1275062  -0.06328431 -0.01687986  0.08685154\n",
      "  -0.13867429  0.02253883 -0.04245418 -0.0534354  -0.14024603  0.08672015\n",
      "   0.00558679  0.0054159  -0.24152984]\n",
      " [ 0.29757867 -0.18590188 -0.10652521 -0.07938112 -0.0175401   0.07052584\n",
      "  -0.15783471  0.00419935 -0.08210849 -0.0461748  -0.10222776  0.13775805\n",
      "  -0.06792586 -0.01455833 -0.24304843]]\n"
     ]
    }
   ],
   "source": [
    "var_exp = [(i / tot) * 100 for i in sorted(eig_vals, reverse=True)]\n",
    "cum_var_exp = np.cumsum(var_exp)\n",
    "matrix_w = np.hstack((\n",
    "    eig_pairs[0][1].reshape(25, 1),\n",
    "    eig_pairs[1][1].reshape(25, 1),\n",
    "    eig_pairs[2][1].reshape(25, 1),\n",
    "    eig_pairs[3][1].reshape(25, 1),\n",
    "    eig_pairs[4][1].reshape(25, 1),\n",
    "    eig_pairs[5][1].reshape(25, 1),\n",
    "    eig_pairs[6][1].reshape(25, 1),\n",
    "    eig_pairs[7][1].reshape(25, 1),\n",
    "    eig_pairs[8][1].reshape(25, 1),\n",
    "    eig_pairs[9][1].reshape(25, 1),\n",
    "    eig_pairs[10][1].reshape(25, 1),\n",
    "    eig_pairs[11][1].reshape(25, 1),\n",
    "    eig_pairs[12][1].reshape(25, 1),\n",
    "    eig_pairs[13][1].reshape(25, 1),\n",
    "    eig_pairs[14][1].reshape(25, 1)\n",
    "))\n",
    "print(matrix_w)"
   ]
  },
  {
   "cell_type": "code",
   "execution_count": 8,
   "metadata": {},
   "outputs": [],
   "source": [
    "Y = X_std.dot(matrix_w)"
   ]
  },
  {
   "cell_type": "code",
   "execution_count": 9,
   "metadata": {},
   "outputs": [
    {
     "name": "stdout",
     "output_type": "stream",
     "text": [
      "          PC1       PC2       PC3       PC4       PC5       PC6       PC7  \\\n",
      "0    0.838260  3.894508 -1.917195 -0.207639  1.461735  1.377403 -2.062071   \n",
      "1    0.837170  3.888268 -1.904924 -0.229913  1.466861  1.374260 -2.060379   \n",
      "2   -0.241899  2.832337 -1.593560  1.815639 -1.499804 -0.679208  0.351206   \n",
      "3    0.270004  0.594281 -0.401089  2.349924  0.128928 -0.442917  0.040355   \n",
      "4   -0.585233  0.946251  0.073819  2.982460  1.054990  0.607461  1.285642   \n",
      "..        ...       ...       ...       ...       ...       ...       ...   \n",
      "200 -3.208494 -1.190565  2.183084 -1.066216 -0.016857 -0.137163 -0.884678   \n",
      "201 -4.213526 -0.864031  1.702951 -1.256510  0.692030 -0.798580  0.668550   \n",
      "202 -3.710446 -0.207053  2.784065 -0.981998 -1.849189 -0.558201  0.240878   \n",
      "203 -3.078550 -3.960742 -2.037249 -2.217478 -1.092129 -2.250524  0.226354   \n",
      "204 -3.912201 -1.191188  1.705681 -1.321864  0.683614 -0.881132  0.637544   \n",
      "\n",
      "          PC8       PC9      PC10      PC11      PC12      PC13      PC14  \\\n",
      "0    0.208143  2.765365 -1.235966  1.048865  1.239876 -0.581495  0.195411   \n",
      "1    0.212462  2.758743 -1.232904  1.045125  1.238880 -0.576469  0.193590   \n",
      "2    0.863257 -0.344517  0.710123  0.024281  0.360312  0.799293  2.356916   \n",
      "3   -0.753874  0.134935  0.931655  0.902956  0.705287 -1.187760  0.105276   \n",
      "4   -1.314349 -0.406433  1.315987  1.336346  1.044222 -0.403771 -0.374968   \n",
      "..        ...       ...       ...       ...       ...       ...       ...   \n",
      "200  0.481550 -0.191273  0.234157 -1.365461 -0.300245 -0.702504 -0.196197   \n",
      "201 -0.350879  0.433698 -0.929324 -1.598493 -0.745142  0.018232  0.038301   \n",
      "202  0.870227 -0.019057  0.783021 -1.515955 -0.106606  0.184430  0.386650   \n",
      "203 -0.183709  0.297421  0.667195 -1.066089  0.000701  1.632661  0.707738   \n",
      "204 -0.252466  0.529001 -0.659724 -1.610596 -0.938377 -0.323445  0.037116   \n",
      "\n",
      "         PC15    price  \n",
      "0    1.245938  13495.0  \n",
      "1    1.247327  16500.0  \n",
      "2   -0.443049  16500.0  \n",
      "3    0.153233  13950.0  \n",
      "4    0.526998  17450.0  \n",
      "..        ...      ...  \n",
      "200  0.087080  16845.0  \n",
      "201  0.078727  19045.0  \n",
      "202  0.207996  21485.0  \n",
      "203  1.028794  22470.0  \n",
      "204  0.360026  22625.0  \n",
      "\n",
      "[205 rows x 16 columns]\n"
     ]
    }
   ],
   "source": [
    "principalDf = pd.DataFrame(\n",
    "    data=Y,\n",
    "    columns=[\n",
    "        'PC1', 'PC2', 'PC3', 'PC4', 'PC5',\n",
    "        'PC6', 'PC7', 'PC8', 'PC9', 'PC10',\n",
    "        'PC11', 'PC12', 'PC13', 'PC14', 'PC15'\n",
    "    ]\n",
    ")\n",
    "final_df = pd.concat([principalDf, pd.DataFrame(y, columns=['price'])], axis=1)\n",
    "print(final_df)"
   ]
  },
  {
   "cell_type": "markdown",
   "metadata": {},
   "source": [
    "# Linear Regression without PCA"
   ]
  },
  {
   "cell_type": "code",
   "execution_count": 10,
   "metadata": {},
   "outputs": [],
   "source": [
    "data = df.values\n",
    "X, y = data[:, :-1], data[:, -1]\n",
    "X_train, X_test, y_train, y_test = train_test_split(\n",
    "    X, y, test_size=0.3, random_state=0\n",
    ")"
   ]
  },
  {
   "cell_type": "code",
   "execution_count": 11,
   "metadata": {},
   "outputs": [
    {
     "name": "stdout",
     "output_type": "stream",
     "text": [
      "R2 Score (without using PCA): 0.7961110382079469\n"
     ]
    }
   ],
   "source": [
    "regr = LinearRegression()\n",
    "regr.fit(X_train, y_train)\n",
    "y_pred = regr.predict(X_test)\n",
    "print('R2 Score (without using PCA):', r2_score(y_test, y_pred))"
   ]
  },
  {
   "cell_type": "markdown",
   "metadata": {},
   "source": [
    "# Linear Regression with PCA"
   ]
  },
  {
   "cell_type": "code",
   "execution_count": 12,
   "metadata": {},
   "outputs": [],
   "source": [
    "pca_data = final_df.values\n",
    "pca_X, pca_y = pca_data[:, :-1], pca_data[:, -1]\n",
    "pca_X_train, pca_X_test, pca_y_train, pca_y_test = train_test_split(\n",
    "    X, y, test_size=0.3, random_state=0\n",
    ")"
   ]
  },
  {
   "cell_type": "code",
   "execution_count": 13,
   "metadata": {},
   "outputs": [
    {
     "name": "stdout",
     "output_type": "stream",
     "text": [
      "R2 Score: 0.7961110382079469\n"
     ]
    }
   ],
   "source": [
    "regr = LinearRegression()\n",
    "regr.fit(pca_X_train, pca_y_train)\n",
    "pca_y_pred = regr.predict(pca_X_test)\n",
    "print('R2 Score:', r2_score(pca_y_test, pca_y_pred))"
   ]
  },
  {
   "cell_type": "code",
   "execution_count": 14,
   "metadata": {},
   "outputs": [
    {
     "data": {
      "image/png": "[encoded data removed]",
      "text/plain": [
       "<Figure size 432x288 with 1 Axes>"
      ]
     },
     "metadata": {
      "needs_background": "light"
     },
     "output_type": "display_data"
    }
   ],
   "source": [
    "fig = plt.figure()\n",
    "m, b = np.polyfit(pca_y_test, pca_y_pred, 1)\n",
    "plt.plot(pca_y_test, m * pca_y_test + b, color='red')\n",
    "plt.scatter(pca_y_test, pca_y_pred, alpha=.5)\n",
    "fig.suptitle('Actual vs Predicted Price', fontsize=20)\n",
    "plt.xlabel('Actual', fontsize=18)\n",
    "plt.ylabel('Predicted', fontsize=18)\n",
    "plt.show()"
   ]
  }
 ],
 "metadata": {
  "kernelspec": {
   "display_name": "Python 3.10.8 64-bit",
   "language": "python",
   "name": "python3"
  },
  "language_info": {
   "codemirror_mode": {
    "name": "ipython",
    "version": 3
   },
   "file_extension": ".py",
   "mimetype": "text/x-python",
   "name": "python",
   "nbconvert_exporter": "python",
   "pygments_lexer": "ipython3",
   "version": "3.10.8"
  },
  "orig_nbformat": 4,
  "vscode": {
   "interpreter": {
    "hash": "26de051ba29f2982a8de78e945f0abaf191376122a1563185a90213a26c5da77"
   }
  }
 },
 "nbformat": 4,
 "nbformat_minor": 2
}
