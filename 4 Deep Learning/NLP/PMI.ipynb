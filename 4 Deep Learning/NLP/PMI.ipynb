{
 "cells": [
  {
   "cell_type": "code",
   "execution_count": 11,
   "metadata": {},
   "outputs": [
    {
     "name": "stderr",
     "output_type": "stream",
     "text": [
      "[nltk_data] Downloading package punkt to\n",
      "[nltk_data]     C:\\Users\\ikath\\AppData\\Roaming\\nltk_data...\n",
      "[nltk_data]   Package punkt is already up-to-date!\n"
     ]
    },
    {
     "data": {
      "text/plain": [
       "True"
      ]
     },
     "execution_count": 11,
     "metadata": {},
     "output_type": "execute_result"
    }
   ],
   "source": [
    "import pandas as pd\n",
    "from sklearn.feature_extraction.text import CountVectorizer\n",
    "import nltk\n",
    "from nltk.collocations import BigramCollocationFinder, BigramAssocMeasures\n",
    "from nltk.tokenize import word_tokenize\n",
    "\n",
    "nltk.download('punkt')"
   ]
  },
  {
   "cell_type": "markdown",
   "metadata": {},
   "source": [
    "## Bigram"
   ]
  },
  {
   "cell_type": "code",
   "execution_count": 21,
   "metadata": {},
   "outputs": [],
   "source": [
    "data = [\n",
    "    'this mobile is good',\n",
    "    'this mobile is not good',\n",
    "    'this mobile works fine',\n",
    "    'affordable',\n",
    "    'this mobile is best',\n",
    "    'this mobile is cheap',\n",
    "    'this mobile is fine'\n",
    "]"
   ]
  },
  {
   "cell_type": "code",
   "execution_count": 22,
   "metadata": {},
   "outputs": [
    {
     "data": {
      "text/plain": [
       "['thismobileisgood',\n",
       " 'thismobileisnotgood',\n",
       " 'thismobileworksfine',\n",
       " 'affordable',\n",
       " 'thismobileisbest',\n",
       " 'thismobileischeap',\n",
       " 'thismobileisfine']"
      ]
     },
     "execution_count": 22,
     "metadata": {},
     "output_type": "execute_result"
    }
   ],
   "source": [
    "feedback = []\n",
    "for i in data:\n",
    "    s = ''.join([e for e in i.split()])\n",
    "    feedback.append(s.lower().strip())\n",
    "feedback"
   ]
  },
  {
   "cell_type": "code",
   "execution_count": 23,
   "metadata": {},
   "outputs": [
    {
     "name": "stdout",
     "output_type": "stream",
     "text": [
      "['affordable', 'thismobileisbest', 'thismobileischeap', 'thismobileisfine', 'thismobileisgood', 'thismobileisnotgood', 'thismobileworksfine']\n",
      "[[0 0 0 0 1 0 0]\n",
      " [0 0 0 0 0 1 0]\n",
      " [0 0 0 0 0 0 1]\n",
      " [1 0 0 0 0 0 0]\n",
      " [0 1 0 0 0 0 0]\n",
      " [0 0 1 0 0 0 0]\n",
      " [0 0 0 1 0 0 0]]\n"
     ]
    }
   ],
   "source": [
    "v = CountVectorizer()\n",
    "text_bow = v.fit_transform(feedback)\n",
    "\n",
    "print(v.get_feature_names())\n",
    "print(text_bow.toarray())"
   ]
  },
  {
   "cell_type": "markdown",
   "metadata": {},
   "source": [
    "## PMI"
   ]
  },
  {
   "cell_type": "code",
   "execution_count": 9,
   "metadata": {},
   "outputs": [],
   "source": [
    "text = \"this is a foo bar bar black sheep  foo bar bar black sheep foo bar bar black sheep shep bar bar black sentence\""
   ]
  },
  {
   "cell_type": "code",
   "execution_count": 10,
   "metadata": {},
   "outputs": [
    {
     "name": "stdout",
     "output_type": "stream",
     "text": [
      "(('is', 'a'), 4.523561956057013)\n",
      "(('this', 'is'), 4.523561956057013)\n",
      "(('a', 'foo'), 2.938599455335857)\n",
      "(('sheep', 'shep'), 2.938599455335857)\n",
      "(('black', 'sentence'), 2.523561956057013)\n",
      "(('black', 'sheep'), 2.523561956057013)\n",
      "(('sheep', 'foo'), 2.353636954614701)\n",
      "(('bar', 'black'), 1.523561956057013)\n",
      "(('foo', 'bar'), 1.523561956057013)\n",
      "(('shep', 'bar'), 1.523561956057013)\n",
      "(('bar', 'bar'), 0.5235619560570131)\n"
     ]
    }
   ],
   "source": [
    "bigram_measures = BigramAssocMeasures()\n",
    "finder = BigramCollocationFinder.from_words(word_tokenize(text))\n",
    "for i in finder.score_ngrams(bigram_measures.pmi):\n",
    "    print(i)"
   ]
  },
  {
   "cell_type": "code",
   "execution_count": null,
   "metadata": {},
   "outputs": [],
   "source": []
  }
 ],
 "metadata": {
  "kernelspec": {
   "display_name": "Python 3.10.5 64-bit",
   "language": "python",
   "name": "python3"
  },
  "language_info": {
   "codemirror_mode": {
    "name": "ipython",
    "version": 3
   },
   "file_extension": ".py",
   "mimetype": "text/x-python",
   "name": "python",
   "nbconvert_exporter": "python",
   "pygments_lexer": "ipython3",
   "version": "3.10.8"
  },
  "orig_nbformat": 4,
  "vscode": {
   "interpreter": {
    "hash": "26de051ba29f2982a8de78e945f0abaf191376122a1563185a90213a26c5da77"
   }
  }
 },
 "nbformat": 4,
 "nbformat_minor": 2
}
