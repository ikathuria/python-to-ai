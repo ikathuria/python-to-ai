{
  "cells": [
    {
      "cell_type": "markdown",
      "metadata": {},
      "source": [
        "# Intro to numpy\n",
        "NumPy, short for Numerical Python, is a fundamental Python library for numerical computing. It provides support for arrays, matrices, and a wide range of mathematical functions to operate on these data structures efficiently. NumPy is widely used in data science, machine learning, and scientific computing due to its performance and ease of use.\n",
        "\n",
        "What all is covered below?\n",
        "1. Creating arrays\n",
        "\t1. List vs NumPy array\n",
        "\t1. Arrays with different data types\n",
        "\t1. Matrices and higher-dimensional arrays\n",
        "1. Basic operations\n",
        "    1. Transpose\n",
        "    1. Indexing\n",
        "\t1. Slicing\n",
        "    1. Reshaping\n",
        "    1. Stacking and concatenation\n",
        "1. Broadcasting"
      ]
    },
    {
      "cell_type": "code",
      "execution_count": 1,
      "metadata": {
        "id": "OWCzmrGEGm6-"
      },
      "outputs": [],
      "source": [
        "import numpy as np\n",
        "import torch\n",
        "import matplotlib.pyplot as plt"
      ]
    },
    {
      "cell_type": "markdown",
      "metadata": {},
      "source": [
        "## Data Structures: list vs array"
      ]
    },
    {
      "cell_type": "code",
      "execution_count": 2,
      "metadata": {
        "colab": {
          "base_uri": "https://localhost:8080/"
        },
        "id": "yiwauuTZHe7H",
        "outputId": "94307886-a74b-419c-8dc1-78e9ca3ce5de"
      },
      "outputs": [
        {
          "name": "stdout",
          "output_type": "stream",
          "text": [
            "List: [4, 5, 2, 6, 8] with type: <class 'list'>\n",
            "Array: [4 5 2 6 8] with type: <class 'numpy.ndarray'>\n"
          ]
        }
      ],
      "source": [
        "my_list = [4, 5, 2, 6, 8]\n",
        "print(\"List:\", my_list, \"with type:\", type(my_list))\n",
        "my_array = np.array(my_list)\n",
        "print(\"Array:\", my_array, \"with type:\", type(my_array))"
      ]
    },
    {
      "cell_type": "markdown",
      "metadata": {},
      "source": [
        "## Data Types: int vs float32"
      ]
    },
    {
      "cell_type": "code",
      "execution_count": 3,
      "metadata": {
        "colab": {
          "base_uri": "https://localhost:8080/"
        },
        "id": "EGuoBcd-G30o",
        "outputId": "982b3a69-55d3-4b99-97e1-296c69eed203"
      },
      "outputs": [
        {
          "name": "stdout",
          "output_type": "stream",
          "text": [
            "List: [4, 5, 2, 6, 8]\n",
            "Array with float dtype: [4. 5. 2. 6. 8.]\n",
            "\n",
            "Shape of array: (5,)\n",
            "Size of array: 5\n",
            "Dtype of array: float32\n"
          ]
        }
      ],
      "source": [
        "my_list = [4, 5, 2, 6, 8]\n",
        "print(\"List:\", my_list)\n",
        "my_array = np.array(my_list, dtype='float32')\n",
        "print(\"Array with float dtype:\", my_array)\n",
        "print(\"\\nShape of array:\", my_array.shape)\n",
        "print(\"Size of array:\", my_array.size)\n",
        "print(\"Dtype of array:\", my_array.dtype)"
      ]
    },
    {
      "cell_type": "markdown",
      "metadata": {},
      "source": [
        "## Matrix / 2D arrays"
      ]
    },
    {
      "cell_type": "code",
      "execution_count": 4,
      "metadata": {
        "id": "dUZWTO6aG4Qp"
      },
      "outputs": [
        {
          "name": "stdout",
          "output_type": "stream",
          "text": [
            "[[1 2 3]\n",
            " [4 5 6]\n",
            " [7 8 9]]\n",
            "\n",
            "Shape of array: (3, 3)\n",
            "Size of array: 5\n",
            "Dtype of array: float32\n"
          ]
        }
      ],
      "source": [
        "list_of_lists = [\n",
        "\t[1, 2, 3],\n",
        "\t[4, 5, 6],\n",
        "\t[7, 8, 9]\n",
        "]\n",
        "two_d_array = np.array(list_of_lists)\n",
        "print(two_d_array)\n",
        "print(\"\\nShape of array:\", two_d_array.shape)\n",
        "print(\"Size of array:\", my_array.size)\n",
        "print(\"Dtype of array:\", my_array.dtype)"
      ]
    },
    {
      "cell_type": "markdown",
      "metadata": {},
      "source": [
        "### Common numpy functions to auto create matrices\n",
        "\n",
        "1. np.zeros() - creates a matrix of given shape filled with zeros\n",
        "1. np.ones() - creates a matrix of given shape filled with ones\n",
        "1. np.full() - creates a matrix of given shape filled with a specified value\n",
        "1. np.linspace() - creates an array of evenly spaced values over a specified range\n",
        "1. np.random.random() - creates an array of given shape filled with random values between 0 and 1\n",
        "1. np.eye() - creates an identity matrix of given shape"
      ]
    },
    {
      "cell_type": "code",
      "execution_count": 5,
      "metadata": {
        "id": "VPnd04OgI8YV"
      },
      "outputs": [
        {
          "name": "stdout",
          "output_type": "stream",
          "text": [
            "Zeros matrix: \n",
            " [[0. 0. 0.]\n",
            " [0. 0. 0.]\n",
            " [0. 0. 0.]]\n",
            "\n",
            "Ones matrix: \n",
            " [[1. 1. 1.]\n",
            " [1. 1. 1.]\n",
            " [1. 1. 1.]]\n",
            "\n",
            "Ones matrix: \n",
            " [[118927. 118927. 118927.]\n",
            " [118927. 118927. 118927.]\n",
            " [118927. 118927. 118927.]]\n",
            "\n",
            "Random values between 0 and 1: \n",
            " [0.         0.05263158 0.10526316 0.15789474 0.21052632 0.26315789\n",
            " 0.31578947 0.36842105 0.42105263 0.47368421 0.52631579 0.57894737\n",
            " 0.63157895 0.68421053 0.73684211 0.78947368 0.84210526 0.89473684\n",
            " 0.94736842 1.        ]\n",
            "\n",
            "Completely random array: \n",
            " [[6.64989812e-01 1.05290255e-01 2.91311251e-01 6.98002282e-02\n",
            "  6.09994046e-01]\n",
            " [2.95909982e-01 8.96106457e-01 6.65940237e-02 8.69614713e-01\n",
            "  6.37000041e-01]\n",
            " [9.31157273e-02 5.13062771e-01 5.91930423e-01 7.95268882e-01\n",
            "  3.55647716e-02]\n",
            " [1.67976703e-01 8.40323692e-04 6.71008847e-01 2.38519667e-02\n",
            "  5.75349356e-01]\n",
            " [5.63374350e-01 5.99448214e-01 8.47815309e-01 3.26644371e-01\n",
            "  8.67168628e-01]]\n"
          ]
        }
      ],
      "source": [
        "zero_matrix = np.zeros((3,3), dtype='float32')\n",
        "print(\"Zeros matrix: \\n\", zero_matrix)\n",
        "\n",
        "ones_matrix = np.ones((3,3), dtype='float32')\n",
        "print(\"\\nOnes matrix: \\n\", ones_matrix)\n",
        "\n",
        "full_matrix = np.full((3,3), fill_value=118927, dtype='float32')\n",
        "print(\"\\nOnes matrix: \\n\", full_matrix)\n",
        "\n",
        "between_0_1 = np.linspace(0, 1, 20)\n",
        "print(\"\\nRandom values between 0 and 1: \\n\", between_0_1)\n",
        "\n",
        "randoms_array = np.random.random((5,5))\n",
        "print(\"\\nCompletely random array: \\n\", randoms_array)"
      ]
    },
    {
      "cell_type": "markdown",
      "metadata": {},
      "source": [
        "### Identity matrix\n",
        "Identity matrix is a square matrix with ones on the diagonal and zeros elsewhere. It acts as the multiplicative identity in matrix multiplication, meaning that any matrix multiplied by the identity matrix remains unchanged.\n",
        "\n",
        "In machine learning, identity matrices are often used in various contexts, such as initializing weights in neural networks, performing transformations, and serving as a basis for certain algorithms. They help maintain the integrity of data during operations and are essential in linear algebra computations that underpin many machine learning techniques."
      ]
    },
    {
      "cell_type": "code",
      "execution_count": 6,
      "metadata": {
        "id": "h4zk9SpsI9ZM"
      },
      "outputs": [
        {
          "name": "stdout",
          "output_type": "stream",
          "text": [
            "3x3 identity matrix:\n",
            " [[1. 0. 0.]\n",
            " [0. 1. 0.]\n",
            " [0. 0. 1.]]\n"
          ]
        }
      ],
      "source": [
        "identity_matrix = np.eye(3,3)\n",
        "print(\"3x3 identity matrix:\\n\", identity_matrix)"
      ]
    },
    {
      "cell_type": "markdown",
      "metadata": {},
      "source": [
        "## Common matrix operations"
      ]
    },
    {
      "cell_type": "markdown",
      "metadata": {},
      "source": [
        "### Transpose\n",
        "Transposing a matrix involves flipping it over its diagonal, which means converting its rows into columns and vice versa. In NumPy, you can transpose a matrix using the `.T` attribute or the `np.transpose()` function.\n",
        "\n",
        "In machine learning, transposing matrices is often necessary when aligning data for operations such as dot products, which are fundamental in algorithms like linear regression and neural networks. Transposition helps ensure that the dimensions of matrices are compatible for multiplication, enabling the correct computation of outputs and gradients during training processes."
      ]
    },
    {
      "cell_type": "code",
      "execution_count": 7,
      "metadata": {
        "id": "ICu9ZONtI9bt"
      },
      "outputs": [
        {
          "name": "stdout",
          "output_type": "stream",
          "text": [
            "Shape of arr: (2, 7)\n",
            "Arr: \n",
            " [[0. 1. 2. 3. 4. 5. 6.]\n",
            " [6. 5. 4. 3. 2. 1. 0.]]\n",
            "\n",
            "Shape of arr: (2, 7)\n",
            "Arr: \n",
            " [[0. 6.]\n",
            " [1. 5.]\n",
            " [2. 4.]\n",
            " [3. 3.]\n",
            " [4. 2.]\n",
            " [5. 1.]\n",
            " [6. 0.]]\n"
          ]
        }
      ],
      "source": [
        "arr = np.array([\n",
        "\t[0, 1, 2, 3, 4, 5, 6],\n",
        "\t[6, 5, 4, 3, 2, 1, 0]\n",
        "], dtype='float32')\n",
        "print(\"Shape of arr:\", arr.shape)\n",
        "print(\"Arr: \\n\", arr)\n",
        "\n",
        "transposed_arr = arr.T\n",
        "print(\"\\nShape of arr:\", arr.shape)\n",
        "print(\"Arr: \\n\", transposed_arr)"
      ]
    },
    {
      "cell_type": "markdown",
      "metadata": {},
      "source": [
        "### Indexing\n",
        "Indexing in NumPy allows you to access and manipulate individual elements or groups of elements within an array or matrix using their specific positions (indices). You can use integer indices, slices, or boolean arrays to select data.\n",
        "\n",
        "In machine learning, indexing is crucial for tasks such as selecting features, extracting samples, and manipulating datasets. It enables efficient data handling and preprocessing, which are essential steps in building and training machine learning models."
      ]
    },
    {
      "cell_type": "code",
      "execution_count": 8,
      "metadata": {},
      "outputs": [
        {
          "name": "stdout",
          "output_type": "stream",
          "text": [
            "First value: 0.0\n",
            "Middle value: 3.0 and 3.0\n",
            "Last value: 0.0\n"
          ]
        }
      ],
      "source": [
        "print(\"First value:\", arr[0][0])\n",
        "print(\"Middle value:\", arr[0][3], \"and\", arr[1][3])\n",
        "print(\"Last value:\", arr[-1][-1])"
      ]
    },
    {
      "cell_type": "markdown",
      "metadata": {},
      "source": [
        "### Slicing\n",
        "Slicing in NumPy allows you to extract specific portions of an array or matrix by specifying ranges of indices. This is done using the colon (`:`) operator, which can define start, stop, and step values for each dimension of the array.\n",
        "\n",
        "In machine learning, slicing is frequently used to manipulate datasets, such as selecting features, creating training and testing sets, or extracting specific samples. It enables efficient data handling and preprocessing, which are crucial steps in building and training machine learning models."
      ]
    },
    {
      "cell_type": "code",
      "execution_count": 9,
      "metadata": {},
      "outputs": [
        {
          "name": "stdout",
          "output_type": "stream",
          "text": [
            "First 4 elemets of first row: [0. 1. 2. 3.]\n",
            "All elements after 3 for first row: [3. 4. 5. 6.]\n",
            "Even indices for first row: [0. 2. 4. 6.]\n",
            "Uneven indices: [1. 3. 5.]\n",
            "Reversed first row: [6. 5. 4. 3. 2. 1. 0.]\n",
            "Upper square of matrix:\n",
            " [[0. 1.]\n",
            " [6. 5.]]\n"
          ]
        }
      ],
      "source": [
        "print(\"First 4 elemets of first row:\", arr[0, :4])\n",
        "print(\"All elements after 3 for first row:\", arr[0, 3:])\n",
        "print(\"Even indices for first row:\", arr[0, ::2])\n",
        "print(\"Uneven indices:\", arr[0, 1::2])\n",
        "print(\"Reversed first row:\", arr[0, ::-1])\n",
        "print(\"Upper square of matrix:\\n\", arr[:2, :2])"
      ]
    },
    {
      "cell_type": "markdown",
      "metadata": {},
      "source": [
        "### Reshaping arrays\n",
        "Reshaping in NumPy allows you to change the shape of an array without altering its data. This is done using the `np.reshape()` function, where you specify the new shape as a tuple.\n",
        "\n",
        "In machine learning, reshaping is often necessary to prepare data for model input, especially when dealing with images or multi-dimensional data. It helps ensure that the data conforms to the expected input dimensions of algorithms and neural networks, facilitating proper training and evaluation."
      ]
    },
    {
      "cell_type": "code",
      "execution_count": 10,
      "metadata": {
        "id": "5ruXgAIqI9ee"
      },
      "outputs": [
        {
          "name": "stdout",
          "output_type": "stream",
          "text": [
            "Original array:\n",
            " [1 2 3 4 5 6 7 8 9]\n",
            "Reshaped array:\n",
            " [[1 2 3]\n",
            " [4 5 6]\n",
            " [7 8 9]]\n"
          ]
        }
      ],
      "source": [
        "reshape_arr = np.array([1, 2, 3, 4, 5, 6, 7, 8, 9])\n",
        "print(\"Original array:\\n\", reshape_arr)\n",
        "reshape_arr = np.reshape(reshape_arr, (3, 3))\n",
        "print(\"Reshaped array:\\n\", reshape_arr)"
      ]
    },
    {
      "cell_type": "markdown",
      "metadata": {},
      "source": [
        "### Creating new axes for arrays\n",
        "Creating new axes in NumPy involves adding additional dimensions to an array, which can be done using functions like `np.newaxis` or `np.expand_dims()`. This is useful for aligning data shapes for operations such as broadcasting or when preparing data for machine learning models that expect inputs of specific dimensions.\n",
        "\n",
        "In machine learning, creating new axes is often necessary when dealing with datasets that require specific input shapes, such as images or time series data. It helps ensure that the data conforms to the expected input format of algorithms and neural networks, enabling proper training and evaluation."
      ]
    },
    {
      "cell_type": "code",
      "execution_count": 11,
      "metadata": {
        "id": "8yYebNbcI9h8"
      },
      "outputs": [
        {
          "name": "stdout",
          "output_type": "stream",
          "text": [
            "Shape of array: (9,)\n",
            "Array: [1 2 3 4 5 6 7 8 9]\n",
            "Shape of array after adding new axis:\n",
            " (9, 1)\n",
            "Array after adding new axis: [[1]\n",
            " [2]\n",
            " [3]\n",
            " [4]\n",
            " [5]\n",
            " [6]\n",
            " [7]\n",
            " [8]\n",
            " [9]]\n",
            "Shape of array after adding new axis:\n",
            " (1, 9, 1)\n",
            "Array after adding new axis: [[[1]\n",
            "  [2]\n",
            "  [3]\n",
            "  [4]\n",
            "  [5]\n",
            "  [6]\n",
            "  [7]\n",
            "  [8]\n",
            "  [9]]]\n"
          ]
        }
      ],
      "source": [
        "axis_arr = np.array([1, 2, 3, 4, 5, 6, 7, 8, 9])\n",
        "print(\"Shape of array:\", axis_arr.shape)\n",
        "print(\"Array:\", axis_arr)\n",
        "\n",
        "while True:\n",
        "\twhich_axis = input(\"Add axis before or after? (b/a) \\n[To EXIT press any other key]: \")\n",
        "\n",
        "\tif which_axis.lower() == 'b':\n",
        "\t\taxis_arr = axis_arr[np.newaxis, :]\n",
        "\t\tprint(\"Shape of array after adding new axis:\\n\", axis_arr.shape)\n",
        "\t\tprint(\"Array after adding new axis:\", axis_arr)\n",
        "\telif which_axis.lower() == 'a':\n",
        "\t\taxis_arr = axis_arr[:, np.newaxis]\n",
        "\t\tprint(\"Shape of array after adding new axis:\\n\", axis_arr.shape)\n",
        "\t\tprint(\"Array after adding new axis:\", axis_arr)\n",
        "\telse:\n",
        "\t\tbreak"
      ]
    },
    {
      "cell_type": "markdown",
      "metadata": {},
      "source": [
        "### Concatenation\n",
        "Concatenation in NumPy refers to the process of joining two or more arrays along a specified axis. This can be done using functions like `np.concatenate()`, `np.vstack()`, and `np.hstack()`, depending on whether you want to concatenate along rows or columns.\n",
        "\n",
        "In machine learning, concatenation is often used to combine datasets, features, or model outputs. It allows for the integration of different sources of data or the merging of results from various models, facilitating more comprehensive analyses and improved model performance."
      ]
    },
    {
      "cell_type": "code",
      "execution_count": 12,
      "metadata": {
        "id": "7TWTVtHkI9rF"
      },
      "outputs": [
        {
          "name": "stdout",
          "output_type": "stream",
          "text": [
            "Simple concatenated array: [1 2 3 4 5 6]\n",
            "\n",
            "VStacked array:\n",
            " [[1 2 3]\n",
            " [4 5 6]\n",
            " [7 8 9]]\n",
            "\n",
            "HStacked array:\n",
            " [1 2 3 4 5 6 7 8 9]\n"
          ]
        }
      ],
      "source": [
        "conc_a = np.array([1, 2, 3])\n",
        "conc_b = np.array([4, 5, 6])\n",
        "conc_c = np.array([7, 8, 9])\n",
        "\n",
        "conc_res_1 = np.concatenate((conc_a, conc_b), axis=0)\n",
        "print(\"Simple concatenated array:\", conc_res_1)\n",
        "\n",
        "vstack_arr = np.vstack((conc_a, conc_b, conc_c))\n",
        "print(\"\\nVStacked array:\\n\", vstack_arr)\n",
        "\n",
        "vstack_arr = np.hstack((conc_a, conc_b, conc_c))\n",
        "print(\"\\nHStacked array:\\n\", vstack_arr)"
      ]
    },
    {
      "cell_type": "markdown",
      "metadata": {},
      "source": [
        "## Broadcasting\n",
        "Broadcasting in NumPy is a powerful mechanism that allows operations to be performed on arrays of different shapes and sizes without the need for explicit replication of data. It works by \"stretching\" the smaller array across the larger one so that they have compatible shapes for element-wise operations.\n",
        "\n",
        "In machine learning, broadcasting is particularly useful for efficiently handling operations on datasets with varying dimensions, such as applying weights to features or normalizing data. It simplifies code and improves performance by eliminating the need for manual reshaping or replication of arrays, making it easier to implement algorithms and perform computations on large datasets."
      ]
    },
    {
      "cell_type": "code",
      "execution_count": 13,
      "metadata": {
        "id": "sXgBIRw-I9wo"
      },
      "outputs": [
        {
          "name": "stdout",
          "output_type": "stream",
          "text": [
            "Matrix:\n",
            " [[1. 1. 1.]\n",
            " [1. 1. 1.]\n",
            " [1. 1. 1.]]\n",
            "Vector:\n",
            " [0 1 2]\n",
            "Broadcasting result:\n",
            " [[1. 2. 3.]\n",
            " [1. 2. 3.]\n",
            " [1. 2. 3.]]\n"
          ]
        }
      ],
      "source": [
        "m = np.array(\n",
        "    [[1., 1., 1.],\n",
        "     [1., 1., 1.],\n",
        "     [1., 1., 1.]]\n",
        ")\n",
        "v = np.array([0, 1, 2])\n",
        "print(\"Matrix:\\n\", m)\n",
        "print(\"Vector:\\n\", v)\n",
        "print(\"Broadcasting result:\\n\", m + v)"
      ]
    },
    {
      "cell_type": "code",
      "execution_count": null,
      "metadata": {},
      "outputs": [],
      "source": []
    }
  ],
  "metadata": {
    "colab": {
      "provenance": []
    },
    "kernelspec": {
      "display_name": ".venv",
      "language": "python",
      "name": "python3"
    },
    "language_info": {
      "codemirror_mode": {
        "name": "ipython",
        "version": 3
      },
      "file_extension": ".py",
      "mimetype": "text/x-python",
      "name": "python",
      "nbconvert_exporter": "python",
      "pygments_lexer": "ipython3",
      "version": "3.12.6"
    }
  },
  "nbformat": 4,
  "nbformat_minor": 0
}
