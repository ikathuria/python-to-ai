{
 "cells": [
  {
   "cell_type": "code",
   "execution_count": 1,
   "id": "5ca845d8",
   "metadata": {},
   "outputs": [],
   "source": [
    "import pandas as pd\n",
    "import sklearn.mixture as mix\n",
    "\n",
    "import numpy as np\n",
    "import networkx as nx\n",
    "import scipy.stats as scs\n",
    "\n",
    "import matplotlib as mpl\n",
    "from matplotlib import cm\n",
    "import matplotlib.pyplot as plt\n",
    "from matplotlib.dates import YearLocator, MonthLocator\n",
    "%matplotlib inline\n",
    "\n",
    "import seaborn as sns\n",
    "from tqdm import tqdm\n",
    "from pprint import pprint"
   ]
  },
  {
   "cell_type": "code",
   "execution_count": 2,
   "id": "1b184c72",
   "metadata": {},
   "outputs": [],
   "source": [
    "def get_markov_edges(Q):\n",
    "    \"\"\"Function that maps transition probability dataframe to markov edges and weights.\n",
    "    \"\"\"\n",
    "    edges = {}\n",
    "    for col in Q.columns:\n",
    "        for idx in Q.index:\n",
    "            edges[(idx, col)] = Q.loc[idx, col]\n",
    "    return edges"
   ]
  },
  {
   "cell_type": "code",
   "execution_count": 3,
   "id": "d2ed14f3",
   "metadata": {
    "scrolled": false
   },
   "outputs": [],
   "source": [
    "def viterbi(pi, a, b, obs):\n",
    "    \"\"\"Define Viterbi algorithm for shortest path.\n",
    "\n",
    "    Code adapted from Stephen Marsland's, Machine Learning An Algorthmic Perspective, Vol. 2\n",
    "    https://github.com/alexsosn/MarslandMLAlgo/blob/master/Ch16/HMM.py\n",
    "    \"\"\"\n",
    "\n",
    "    nStates = np.shape(b)[0]\n",
    "    T = np.shape(obs)[0]\n",
    "    \n",
    "    # init blank path\n",
    "    path = np.zeros(T)\n",
    "    # delta --> highest probability of any path that reaches state i\n",
    "    delta = np.zeros((nStates, T))\n",
    "    # phi --> argmax by time step for each state\n",
    "    phi = np.zeros((nStates, T))\n",
    "    \n",
    "    # init delta and phi \n",
    "    delta[:, 0] = pi * b[:, obs[0]]\n",
    "    phi[:, 0] = 0\n",
    "\n",
    "    print('\\nStart Walk Forward\\n')    \n",
    "    # the forward algorithm extension\n",
    "    for t in range(1, T):\n",
    "        for s in range(nStates):\n",
    "            delta[s, t] = np.max(delta[:, t-1] * a[:, s]) * b[s, obs[t]] \n",
    "            phi[s, t] = np.argmax(delta[:, t-1] * a[:, s])\n",
    "            print('s={s} and t={t}: phi[{s}, {t}] = {phi}'.format(s=s, t=t, phi=phi[s, t]))\n",
    "    \n",
    "    # find optimal path\n",
    "    print('-'*50)\n",
    "    print('Start Backtrace\\n')\n",
    "    path[T-1] = np.argmax(delta[:, T-1])\n",
    "    #p('init path\\n    t={} path[{}-1]={}\\n'.format(T-1, T, path[T-1]))\n",
    "    for t in range(T-2, -1, -1):\n",
    "        path[t] = phi[int(path[t+1]), t+1]\n",
    "        #p(' '*4 + 't={t}, path[{t}+1]={path}, [{t}+1]={i}'.format(t=t, path=path[t+1], i=[t+1]))\n",
    "        print('path[{}] = {}'.format(t, path[t]))\n",
    "        \n",
    "    return path, delta, phi"
   ]
  },
  {
   "cell_type": "markdown",
   "id": "e1c9ab2b",
   "metadata": {},
   "source": [
    "## Create state space and initial state probabilities"
   ]
  },
  {
   "cell_type": "code",
   "execution_count": 4,
   "id": "63da92ed",
   "metadata": {},
   "outputs": [
    {
     "name": "stdout",
     "output_type": "stream",
     "text": [
      "sleeping    0.35\n",
      "eating      0.35\n",
      "pooping     0.30\n",
      "Name: states, dtype: float64\n",
      "1.0\n"
     ]
    }
   ],
   "source": [
    "states = ['sleeping', 'eating', 'pooping']\n",
    "pi = [0.35, 0.35, 0.3]\n",
    "state_space = pd.Series(pi, index=states, name='states')\n",
    "print(state_space)\n",
    "print(state_space.sum())"
   ]
  },
  {
   "cell_type": "markdown",
   "id": "a6375ecf",
   "metadata": {},
   "source": [
    "## Create transition matrix\n",
    "transition matrix equals transition probability matrix of changing states given a state matrix is size (M x M) where M is number of states."
   ]
  },
  {
   "cell_type": "code",
   "execution_count": 5,
   "id": "e867cef9",
   "metadata": {},
   "outputs": [
    {
     "name": "stdout",
     "output_type": "stream",
     "text": [
      "         sleeping eating pooping\n",
      "sleeping      0.4    0.2     0.4\n",
      "eating       0.45   0.45     0.1\n",
      "pooping      0.45   0.25     0.3\n",
      "\n",
      " [[0.4 0.2 0.4]\n",
      " [0.45 0.45 0.1]\n",
      " [0.45 0.25 0.3]] \n",
      "\n",
      "sleeping    1.0\n",
      "eating      1.0\n",
      "pooping     1.0\n",
      "dtype: float64\n"
     ]
    }
   ],
   "source": [
    "q_df = pd.DataFrame(columns=states, index=states)\n",
    "q_df.loc[states[0]] = [0.4, 0.2, 0.4]\n",
    "q_df.loc[states[1]] = [0.45, 0.45, 0.1]\n",
    "q_df.loc[states[2]] = [0.45, 0.25, .3]\n",
    "\n",
    "print(q_df)\n",
    "\n",
    "q = q_df.values\n",
    "print('\\n', q, '\\n')\n",
    "print(q_df.sum(axis=1))"
   ]
  },
  {
   "cell_type": "code",
   "execution_count": 6,
   "id": "d3bb4c0f",
   "metadata": {},
   "outputs": [
    {
     "name": "stdout",
     "output_type": "stream",
     "text": [
      " ('sleeping', 'sleeping') : 0.40\n",
      "   ('eating', 'sleeping') : 0.45\n",
      "  ('pooping', 'sleeping') : 0.45\n",
      "   ('sleeping', 'eating') : 0.20\n",
      "     ('eating', 'eating') : 0.45\n",
      "    ('pooping', 'eating') : 0.25\n",
      "  ('sleeping', 'pooping') : 0.40\n",
      "    ('eating', 'pooping') : 0.10\n",
      "   ('pooping', 'pooping') : 0.30\n"
     ]
    }
   ],
   "source": [
    "edges_wts = get_markov_edges(q_df)\n",
    "for key, val in edges_wts.items():\n",
    "    print(\"%25s : %.2f\" % (key, val))"
   ]
  },
  {
   "cell_type": "code",
   "execution_count": 7,
   "id": "041798b2",
   "metadata": {},
   "outputs": [
    {
     "name": "stdout",
     "output_type": "stream",
     "text": [
      "Nodes:\n",
      "['sleeping', 'eating', 'pooping']\n",
      "\n",
      "Edges:\n",
      "OutMultiEdgeDataView([('sleeping', 'sleeping', {'weight': 0.4, 'label': 0.4}), ('sleeping', 'eating', {'weight': 0.2, 'label': 0.2}), ('sleeping', 'pooping', {'weight': 0.4, 'label': 0.4}), ('eating', 'sleeping', {'weight': 0.45, 'label': 0.45}), ('eating', 'eating', {'weight': 0.45, 'label': 0.45}), ('eating', 'pooping', {'weight': 0.1, 'label': 0.1}), ('pooping', 'sleeping', {'weight': 0.45, 'label': 0.45}), ('pooping', 'eating', {'weight': 0.25, 'label': 0.25}), ('pooping', 'pooping', {'weight': 0.3, 'label': 0.3})])\n"
     ]
    },
    {
     "data": {
      "image/png": "[encoded data removed]",
      "text/plain": [
       "<Figure size 432x288 with 1 Axes>"
      ]
     },
     "metadata": {},
     "output_type": "display_data"
    }
   ],
   "source": [
    "# create graph object\n",
    "G = nx.MultiDiGraph()\n",
    "\n",
    "# nodes correspond to states\n",
    "G.add_nodes_from(states)\n",
    "print(f'Nodes:\\n{G.nodes()}\\n')\n",
    "\n",
    "# edges represent transition probabilities\n",
    "for k, v in edges_wts.items():\n",
    "    tmp_origin, tmp_destination = k[0], k[1]\n",
    "    G.add_edge(tmp_origin, tmp_destination, weight=v, label=v)\n",
    "print(f'Edges:')\n",
    "pprint(G.edges(data=True))\n",
    "\n",
    "pos = nx.drawing.nx_pydot.graphviz_layout(G, prog='dot')\n",
    "nx.draw_networkx(G, pos)"
   ]
  },
  {
   "cell_type": "code",
   "execution_count": 25,
   "id": "d60fe253",
   "metadata": {},
   "outputs": [
    {
     "data": {
      "image/png": "[encoded data removed]",
      "text/plain": [
       "<Figure size 432x288 with 1 Axes>"
      ]
     },
     "metadata": {},
     "output_type": "display_data"
    }
   ],
   "source": [
    "# create edge labels for jupyter plot but is not necessary\n",
    "edge_labels = {(n1, n2): d['label'] for n1, n2, d in G.edges(data=True)}\n",
    "nx.draw_networkx_edge_labels(G, pos, edge_labels=edge_labels)\n",
    "nx.drawing.nx_pydot.write_dot(G, 'pet_dog_markov.dot')"
   ]
  },
  {
   "cell_type": "markdown",
   "id": "6c5c386c",
   "metadata": {},
   "source": [
    "## Create state space and initial state probabilities"
   ]
  },
  {
   "cell_type": "code",
   "execution_count": 9,
   "id": "85bf6191",
   "metadata": {},
   "outputs": [
    {
     "name": "stdout",
     "output_type": "stream",
     "text": [
      "healthy    0.5\n",
      "sick       0.5\n",
      "Name: states, dtype: float64\n",
      "\n",
      " 1.0\n"
     ]
    }
   ],
   "source": [
    "hidden_states = ['healthy', 'sick']\n",
    "pi = [0.5, 0.5]\n",
    "state_space = pd.Series(pi, index=hidden_states, name='states')\n",
    "print(state_space)\n",
    "print('\\n', state_space.sum())"
   ]
  },
  {
   "cell_type": "markdown",
   "id": "65405bea",
   "metadata": {},
   "source": [
    "## Create hidden transition matrix\n",
    "a or alpha = transition probability matrix of changing states given a state matrix is size (M x M) where M is number of states."
   ]
  },
  {
   "cell_type": "code",
   "execution_count": 10,
   "id": "b664f9af",
   "metadata": {},
   "outputs": [
    {
     "name": "stdout",
     "output_type": "stream",
     "text": [
      "        healthy sick\n",
      "healthy     0.7  0.3\n",
      "sick        0.4  0.6\n",
      "\n",
      " [[0.7 0.3]\n",
      " [0.4 0.6]] \n",
      "\n",
      "healthy    1.0\n",
      "sick       1.0\n",
      "dtype: float64\n"
     ]
    }
   ],
   "source": [
    "a_df = pd.DataFrame(columns=hidden_states, index=hidden_states)\n",
    "a_df.loc[hidden_states[0]] = [0.7, 0.3]\n",
    "a_df.loc[hidden_states[1]] = [0.4, 0.6]\n",
    "\n",
    "print(a_df)\n",
    "\n",
    "a = a_df.values\n",
    "print('\\n', a, '\\n')\n",
    "print(a_df.sum(axis=1))"
   ]
  },
  {
   "cell_type": "markdown",
   "id": "e6c58e65",
   "metadata": {},
   "source": [
    "## Create matrix of observation (emission) probabilities\n",
    "b or beta = observation probabilities given state matrix is size (M x O) where M is number of states and O is number of different possible observations"
   ]
  },
  {
   "cell_type": "code",
   "execution_count": 11,
   "id": "30739c86",
   "metadata": {},
   "outputs": [
    {
     "name": "stdout",
     "output_type": "stream",
     "text": [
      "        sleeping eating pooping\n",
      "healthy      0.2    0.6     0.2\n",
      "sick         0.4    0.1     0.5\n",
      "\n",
      " [[0.2 0.6 0.2]\n",
      " [0.4 0.1 0.5]] (2, 3) \n",
      "\n",
      "healthy    1.0\n",
      "sick       1.0\n",
      "dtype: float64\n"
     ]
    }
   ],
   "source": [
    "observable_states = states\n",
    "\n",
    "b_df = pd.DataFrame(columns=observable_states, index=hidden_states)\n",
    "b_df.loc[hidden_states[0]] = [0.2, 0.6, 0.2]\n",
    "b_df.loc[hidden_states[1]] = [0.4, 0.1, 0.5]\n",
    "\n",
    "print(b_df)\n",
    "\n",
    "b = b_df.values\n",
    "print('\\n', b, b.shape, '\\n')\n",
    "print(b_df.sum(axis=1))"
   ]
  },
  {
   "cell_type": "code",
   "execution_count": 12,
   "id": "43b262a9",
   "metadata": {},
   "outputs": [
    {
     "name": "stdout",
     "output_type": "stream",
     "text": [
      "   ('healthy', 'healthy') : 0.70\n",
      "      ('sick', 'healthy') : 0.40\n",
      "      ('healthy', 'sick') : 0.30\n",
      "         ('sick', 'sick') : 0.60\n",
      "\n",
      "  ('healthy', 'sleeping') : 0.20\n",
      "     ('sick', 'sleeping') : 0.40\n",
      "    ('healthy', 'eating') : 0.60\n",
      "       ('sick', 'eating') : 0.10\n",
      "   ('healthy', 'pooping') : 0.20\n",
      "      ('sick', 'pooping') : 0.50\n"
     ]
    }
   ],
   "source": [
    "# create graph edges and weights\n",
    "hide_edges_wts = get_markov_edges(a_df)\n",
    "for key, val in hide_edges_wts.items():\n",
    "    print(\"%25s : %.2f\" % (key, val))\n",
    "\n",
    "print()\n",
    "\n",
    "emit_edges_wts = get_markov_edges(b_df)\n",
    "for key, val in emit_edges_wts.items():\n",
    "    print(\"%25s : %.2f\" % (key, val))"
   ]
  },
  {
   "cell_type": "code",
   "execution_count": 13,
   "id": "5acf7274",
   "metadata": {},
   "outputs": [
    {
     "name": "stdout",
     "output_type": "stream",
     "text": [
      "Nodes:\n",
      "['healthy', 'sick']\n",
      "\n",
      "Edges:\n",
      "OutMultiEdgeDataView([('healthy', 'healthy', {'weight': 0.7, 'label': 0.7}), ('healthy', 'sick', {'weight': 0.3, 'label': 0.3}), ('healthy', 'sleeping', {'weight': 0.2, 'label': 0.2}), ('healthy', 'eating', {'weight': 0.6, 'label': 0.6}), ('healthy', 'pooping', {'weight': 0.2, 'label': 0.2}), ('sick', 'healthy', {'weight': 0.4, 'label': 0.4}), ('sick', 'sick', {'weight': 0.6, 'label': 0.6}), ('sick', 'sleeping', {'weight': 0.4, 'label': 0.4}), ('sick', 'eating', {'weight': 0.1, 'label': 0.1}), ('sick', 'pooping', {'weight': 0.5, 'label': 0.5})])\n"
     ]
    },
    {
     "data": {
      "image/png": "[encoded data removed]",
      "text/plain": [
       "<Figure size 432x288 with 1 Axes>"
      ]
     },
     "metadata": {},
     "output_type": "display_data"
    }
   ],
   "source": [
    "# create graph object\n",
    "G = nx.MultiDiGraph()\n",
    "\n",
    "# nodes correspond to states\n",
    "G.add_nodes_from(hidden_states)\n",
    "print(f'Nodes:\\n{G.nodes()}\\n')\n",
    "\n",
    "# edges represent hidden probabilities\n",
    "for k, v in hide_edges_wts.items():\n",
    "    tmp_origin, tmp_destination = k[0], k[1]\n",
    "    G.add_edge(tmp_origin, tmp_destination, weight=v, label=v)\n",
    "\n",
    "# edges represent emission probabilities\n",
    "for k, v in emit_edges_wts.items():\n",
    "    tmp_origin, tmp_destination = k[0], k[1]\n",
    "    G.add_edge(tmp_origin, tmp_destination, weight=v, label=v)\n",
    "\n",
    "print(f'Edges:')\n",
    "pprint(G.edges(data=True))\n",
    "\n",
    "pos = nx.drawing.nx_pydot.graphviz_layout(G, prog='neato')\n",
    "nx.draw_networkx(G, pos)"
   ]
  },
  {
   "cell_type": "code",
   "execution_count": 14,
   "id": "3e4f0e59",
   "metadata": {},
   "outputs": [
    {
     "data": {
      "image/png": "[encoded data removed]",
      "text/plain": [
       "<Figure size 432x288 with 1 Axes>"
      ]
     },
     "metadata": {},
     "output_type": "display_data"
    }
   ],
   "source": [
    "# create edge labels for jupyter plot but is not necessary\n",
    "emit_edge_labels = {(n1, n2): d['label'] for n1, n2, d in G.edges(data=True)}\n",
    "nx.draw_networkx_edge_labels(G, pos, edge_labels=emit_edge_labels)\n",
    "nx.drawing.nx_pydot.write_dot(G, 'pet_dog_hidden_markov.dot')"
   ]
  },
  {
   "cell_type": "markdown",
   "id": "d89a3000",
   "metadata": {},
   "source": [
    "## Observation sequence of dog's behaviors\n",
    "observations are encoded numerically"
   ]
  },
  {
   "cell_type": "code",
   "execution_count": 15,
   "id": "1201977c",
   "metadata": {
    "scrolled": false
   },
   "outputs": [
    {
     "name": "stdout",
     "output_type": "stream",
     "text": [
      "   Obs_code   Obs_seq\n",
      "0         1    eating\n",
      "1         1    eating\n",
      "2         2   pooping\n",
      "3         1    eating\n",
      "4         0  sleeping\n",
      "5         1    eating\n",
      "6         2   pooping\n",
      "7         1    eating\n",
      "8         0  sleeping\n",
      "9         2   pooping\n",
      "10        2   pooping\n",
      "11        0  sleeping\n",
      "12        1    eating\n",
      "13        0  sleeping\n",
      "14        1    eating\n"
     ]
    }
   ],
   "source": [
    "obs_map = {'sleeping': 0, 'eating': 1, 'pooping': 2}\n",
    "obs = np.array([1, 1, 2, 1, 0, 1, 2, 1, 0, 2, 2, 0, 1, 0, 1])\n",
    "\n",
    "inv_obs_map = dict((v, k) for k, v in obs_map.items())\n",
    "obs_seq = [inv_obs_map[v] for v in list(obs)]\n",
    "\n",
    "print(pd.DataFrame(\n",
    "    np.column_stack([obs, obs_seq]),\n",
    "    columns=['Obs_code', 'Obs_seq']\n",
    "))"
   ]
  },
  {
   "cell_type": "code",
   "execution_count": 16,
   "id": "c9ad4072",
   "metadata": {},
   "outputs": [
    {
     "name": "stdout",
     "output_type": "stream",
     "text": [
      "\n",
      "Start Walk Forward\n",
      "\n",
      "s=0 and t=1: phi[0, 1] = 0.0\n",
      "s=1 and t=1: phi[1, 1] = 0.0\n",
      "s=0 and t=2: phi[0, 2] = 0.0\n",
      "s=1 and t=2: phi[1, 2] = 0.0\n",
      "s=0 and t=3: phi[0, 3] = 0.0\n",
      "s=1 and t=3: phi[1, 3] = 1.0\n",
      "s=0 and t=4: phi[0, 4] = 0.0\n",
      "s=1 and t=4: phi[1, 4] = 0.0\n",
      "s=0 and t=5: phi[0, 5] = 0.0\n",
      "s=1 and t=5: phi[1, 5] = 1.0\n",
      "s=0 and t=6: phi[0, 6] = 0.0\n",
      "s=1 and t=6: phi[1, 6] = 0.0\n",
      "s=0 and t=7: phi[0, 7] = 0.0\n",
      "s=1 and t=7: phi[1, 7] = 1.0\n",
      "s=0 and t=8: phi[0, 8] = 0.0\n",
      "s=1 and t=8: phi[1, 8] = 0.0\n",
      "s=0 and t=9: phi[0, 9] = 0.0\n",
      "s=1 and t=9: phi[1, 9] = 1.0\n",
      "s=0 and t=10: phi[0, 10] = 1.0\n",
      "s=1 and t=10: phi[1, 10] = 1.0\n",
      "s=0 and t=11: phi[0, 11] = 1.0\n",
      "s=1 and t=11: phi[1, 11] = 1.0\n",
      "s=0 and t=12: phi[0, 12] = 1.0\n",
      "s=1 and t=12: phi[1, 12] = 1.0\n",
      "s=0 and t=13: phi[0, 13] = 0.0\n",
      "s=1 and t=13: phi[1, 13] = 0.0\n",
      "s=0 and t=14: phi[0, 14] = 0.0\n",
      "s=1 and t=14: phi[1, 14] = 1.0\n",
      "--------------------------------------------------\n",
      "Start Backtrace\n",
      "\n",
      "path[13] = 0.0\n",
      "path[12] = 0.0\n",
      "path[11] = 1.0\n",
      "path[10] = 1.0\n",
      "path[9] = 1.0\n",
      "path[8] = 1.0\n",
      "path[7] = 0.0\n",
      "path[6] = 0.0\n",
      "path[5] = 0.0\n",
      "path[4] = 0.0\n",
      "path[3] = 0.0\n",
      "path[2] = 0.0\n",
      "path[1] = 0.0\n",
      "path[0] = 0.0\n",
      "Single best state path: \n",
      " [0. 0. 0. 0. 0. 0. 0. 0. 1. 1. 1. 1. 0. 0. 0.]\n"
     ]
    }
   ],
   "source": [
    "path, delta, phi = viterbi(pi, a, b, obs)\n",
    "print(\"Single best state path: \\n\", path)"
   ]
  },
  {
   "cell_type": "code",
   "execution_count": 17,
   "id": "6f2259a3",
   "metadata": {},
   "outputs": [
    {
     "name": "stdout",
     "output_type": "stream",
     "text": [
      "delta:\n",
      " [[3.00000000e-01 1.26000000e-01 1.76400000e-02 7.40880000e-03\n",
      "  1.03723200e-03 4.35637440e-04 6.09892416e-05 2.56154815e-05\n",
      "  3.58616741e-06 5.02063437e-07 7.37725866e-08 2.21317760e-08\n",
      "  1.59348787e-08 2.23088302e-09 9.36970868e-10]\n",
      " [5.00000000e-02 9.00000000e-03 1.89000000e-02 1.13400000e-03\n",
      "  8.89056000e-04 5.33433600e-05 6.53456160e-05 3.92073696e-06\n",
      "  3.07385778e-06 9.22157333e-07 2.76647200e-07 6.63953280e-08\n",
      "  3.98371968e-09 1.91218545e-09 1.14731127e-10]]\n"
     ]
    }
   ],
   "source": [
    "print(\"delta:\\n\", delta)"
   ]
  },
  {
   "cell_type": "code",
   "execution_count": 18,
   "id": "c52e3b35",
   "metadata": {},
   "outputs": [
    {
     "name": "stdout",
     "output_type": "stream",
     "text": [
      "phi:\n",
      " [[0. 0. 0. 0. 0. 0. 0. 0. 0. 0. 1. 1. 1. 0. 0.]\n",
      " [0. 0. 0. 1. 0. 1. 0. 1. 0. 1. 1. 1. 1. 0. 1.]]\n"
     ]
    }
   ],
   "source": [
    "print(\"phi:\\n\", phi)"
   ]
  },
  {
   "cell_type": "markdown",
   "id": "f35903f9",
   "metadata": {},
   "source": [
    "## Result"
   ]
  },
  {
   "cell_type": "code",
   "execution_count": 19,
   "id": "55cc6924",
   "metadata": {},
   "outputs": [
    {
     "data": {
      "text/html": [
       "<div>\n",
       "<style scoped>\n",
       "    .dataframe tbody tr th:only-of-type {\n",
       "        vertical-align: middle;\n",
       "    }\n",
       "\n",
       "    .dataframe tbody tr th {\n",
       "        vertical-align: top;\n",
       "    }\n",
       "\n",
       "    .dataframe thead th {\n",
       "        text-align: right;\n",
       "    }\n",
       "</style>\n",
       "<table border=\"1\" class=\"dataframe\">\n",
       "  <thead>\n",
       "    <tr style=\"text-align: right;\">\n",
       "      <th></th>\n",
       "      <th>Observation</th>\n",
       "      <th>Best_Path</th>\n",
       "    </tr>\n",
       "  </thead>\n",
       "  <tbody>\n",
       "    <tr>\n",
       "      <th>0</th>\n",
       "      <td>eating</td>\n",
       "      <td>healthy</td>\n",
       "    </tr>\n",
       "    <tr>\n",
       "      <th>1</th>\n",
       "      <td>eating</td>\n",
       "      <td>healthy</td>\n",
       "    </tr>\n",
       "    <tr>\n",
       "      <th>2</th>\n",
       "      <td>pooping</td>\n",
       "      <td>healthy</td>\n",
       "    </tr>\n",
       "    <tr>\n",
       "      <th>3</th>\n",
       "      <td>eating</td>\n",
       "      <td>healthy</td>\n",
       "    </tr>\n",
       "    <tr>\n",
       "      <th>4</th>\n",
       "      <td>sleeping</td>\n",
       "      <td>healthy</td>\n",
       "    </tr>\n",
       "    <tr>\n",
       "      <th>5</th>\n",
       "      <td>eating</td>\n",
       "      <td>healthy</td>\n",
       "    </tr>\n",
       "    <tr>\n",
       "      <th>6</th>\n",
       "      <td>pooping</td>\n",
       "      <td>healthy</td>\n",
       "    </tr>\n",
       "    <tr>\n",
       "      <th>7</th>\n",
       "      <td>eating</td>\n",
       "      <td>healthy</td>\n",
       "    </tr>\n",
       "    <tr>\n",
       "      <th>8</th>\n",
       "      <td>sleeping</td>\n",
       "      <td>sick</td>\n",
       "    </tr>\n",
       "    <tr>\n",
       "      <th>9</th>\n",
       "      <td>pooping</td>\n",
       "      <td>sick</td>\n",
       "    </tr>\n",
       "    <tr>\n",
       "      <th>10</th>\n",
       "      <td>pooping</td>\n",
       "      <td>sick</td>\n",
       "    </tr>\n",
       "    <tr>\n",
       "      <th>11</th>\n",
       "      <td>sleeping</td>\n",
       "      <td>sick</td>\n",
       "    </tr>\n",
       "    <tr>\n",
       "      <th>12</th>\n",
       "      <td>eating</td>\n",
       "      <td>healthy</td>\n",
       "    </tr>\n",
       "    <tr>\n",
       "      <th>13</th>\n",
       "      <td>sleeping</td>\n",
       "      <td>healthy</td>\n",
       "    </tr>\n",
       "    <tr>\n",
       "      <th>14</th>\n",
       "      <td>eating</td>\n",
       "      <td>healthy</td>\n",
       "    </tr>\n",
       "  </tbody>\n",
       "</table>\n",
       "</div>"
      ],
      "text/plain": [
       "   Observation Best_Path\n",
       "0       eating   healthy\n",
       "1       eating   healthy\n",
       "2      pooping   healthy\n",
       "3       eating   healthy\n",
       "4     sleeping   healthy\n",
       "5       eating   healthy\n",
       "6      pooping   healthy\n",
       "7       eating   healthy\n",
       "8     sleeping      sick\n",
       "9      pooping      sick\n",
       "10     pooping      sick\n",
       "11    sleeping      sick\n",
       "12      eating   healthy\n",
       "13    sleeping   healthy\n",
       "14      eating   healthy"
      ]
     },
     "execution_count": 19,
     "metadata": {},
     "output_type": "execute_result"
    }
   ],
   "source": [
    "state_map = {\n",
    "    0: 'healthy',\n",
    "    1: 'sick'\n",
    "}\n",
    "state_path = [state_map[v] for v in path]\n",
    "\n",
    "(pd.DataFrame().assign(Observation=obs_seq).assign(Best_Path=state_path))"
   ]
  },
  {
   "cell_type": "code",
   "execution_count": null,
   "id": "32d7d51f",
   "metadata": {},
   "outputs": [],
   "source": []
  }
 ],
 "metadata": {
  "kernelspec": {
   "display_name": "Python 3 (ipykernel)",
   "language": "python",
   "name": "python3"
  },
  "language_info": {
   "codemirror_mode": {
    "name": "ipython",
    "version": 3
   },
   "file_extension": ".py",
   "mimetype": "text/x-python",
   "name": "python",
   "nbconvert_exporter": "python",
   "pygments_lexer": "ipython3",
   "version": "3.10.2"
  }
 },
 "nbformat": 4,
 "nbformat_minor": 5
}
