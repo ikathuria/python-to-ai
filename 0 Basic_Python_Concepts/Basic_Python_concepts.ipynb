{
 "cells": [
  {
   "cell_type": "markdown",
   "metadata": {},
   "source": [
    "# Basic Python programming concepts\n",
    "The following programs have been implemented from [Geeks for Geeks](https://www.geeksforgeeks.org/python-programming-examples/)."
   ]
  },
  {
   "cell_type": "code",
   "execution_count": 1,
   "metadata": {},
   "outputs": [],
   "source": [
    "import numpy as np\n",
    "import re\n",
    "import time\n",
    "import datetime"
   ]
  },
  {
   "cell_type": "markdown",
   "metadata": {},
   "source": [
    "## Array program\n",
    "Split an array at specified position and add the first part to the end."
   ]
  },
  {
   "cell_type": "code",
   "execution_count": 2,
   "metadata": {},
   "outputs": [
    {
     "name": "stdout",
     "output_type": "stream",
     "text": [
      "Enter array values separated by space: 1 2 3 4 5 6 7 8 9 10\n",
      "Enter position of split: 2\n",
      "\n",
      "Old array: [1, 2, 3, 4, 5, 6, 7, 8, 9, 10]\n",
      "New array: [3, 4, 5, 6, 7, 8, 9, 10, 1, 2]\n"
     ]
    }
   ],
   "source": [
    "arr = [int(x) for x in input(\"Enter array values separated by space: \").split(\" \")]\n",
    "n = int(input(\"Enter position of split: \"))\n",
    "\n",
    "first_split = arr[:n]\n",
    "new_arr = arr[n:]\n",
    "new_arr.extend(first_split)\n",
    "\n",
    "print(\"\\nOld array:\", arr)\n",
    "print(\"New array:\", new_arr)"
   ]
  },
  {
   "cell_type": "markdown",
   "metadata": {},
   "source": [
    "## List program\n",
    "Break a list into chunks of size n."
   ]
  },
  {
   "cell_type": "code",
   "execution_count": 3,
   "metadata": {},
   "outputs": [
    {
     "name": "stdout",
     "output_type": "stream",
     "text": [
      "Enter values of list separated by space: 1 2 3 4 5 6 7 8 9 10\n",
      "Enter chunk size: 3\n",
      "Old List: [1, 2, 3, 4, 5, 6, 7, 8, 9, 10]\n",
      "New List: [[1, 2, 3], [4, 5, 6], [7, 8, 9], [10]]\n"
     ]
    }
   ],
   "source": [
    "old_list = [int(x) for x in input(\"Enter values of list separated by space: \").split(\" \")]\n",
    "n = int(input(\"Enter chunk size: \"))\n",
    "\n",
    "new_list = []\n",
    "for i in range(0, len(old_list), n):\n",
    "    temp = old_list[i:i+n]\n",
    "    new_list.append(temp)\n",
    "\n",
    "print(\"Old List:\", old_list)\n",
    "print(\"New List:\", new_list)"
   ]
  },
  {
   "cell_type": "markdown",
   "metadata": {},
   "source": [
    "## Matrix Program\n",
    "Adding and Subtracting Matrices."
   ]
  },
  {
   "cell_type": "code",
   "execution_count": 4,
   "metadata": {},
   "outputs": [
    {
     "name": "stdout",
     "output_type": "stream",
     "text": [
      "Enter values of matrix separated by space for column values and semicolon for rows (eg: 1 2 3;4 5 6): 1 2 3;4 5 6\n",
      "Enter values of matrix separated by space for column values and semicolon for rows (eg: 1 2 3;4 5 6): 1 2 3;4 5 6\n",
      "\n",
      "Addition value:\n",
      " [[ 2  4  6]\n",
      " [ 8 10 12]]\n",
      "\n",
      "Subtraction value:\n",
      " [[0 0 0]\n",
      " [0 0 0]]\n"
     ]
    }
   ],
   "source": [
    "mat_inp = \"Enter values of matrix separated by space for column values and semicolon for rows (eg: 1 2 3;4 5 6): \"\n",
    "\n",
    "matrix1 = [[int(y) for y in x.split(\" \")] for x in input(mat_inp).split(\";\")]\n",
    "matrix2 = [[int(y) for y in x.split(\" \")] for x in input(mat_inp).split(\";\")]\n",
    "\n",
    "addition_mat = np.add(matrix1, matrix2)\n",
    "subtraction_mat = np.subtract(matrix1, matrix2)\n",
    "\n",
    "print(\"\\nAddition value:\\n\", addition_mat)\n",
    "print(\"\\nSubtraction value:\\n\", subtraction_mat)"
   ]
  },
  {
   "cell_type": "markdown",
   "metadata": {},
   "source": [
    "## String Program\n",
    "Print even length words in a string."
   ]
  },
  {
   "cell_type": "code",
   "execution_count": 5,
   "metadata": {},
   "outputs": [
    {
     "name": "stdout",
     "output_type": "stream",
     "text": [
      "Enter your string: This is the python deep learning class\n",
      "\n",
      "All even length words:\n",
      " 4 This\n",
      " 2 is\n",
      " 6 python\n",
      " 4 deep\n",
      " 8 learning\n"
     ]
    }
   ],
   "source": [
    "string_words = input(\"Enter your string: \").split(\" \")\n",
    "\n",
    "print(\"\\nAll even length words:\")\n",
    "for word in string_words:\n",
    "    if len(word) % 2 == 0:\n",
    "        print(\"%2d %s\" % (len(word), word))"
   ]
  },
  {
   "cell_type": "markdown",
   "metadata": {},
   "source": [
    "## Dictionary Program\n",
    "Program to find the sum of all items in a dictionary."
   ]
  },
  {
   "cell_type": "code",
   "execution_count": 6,
   "metadata": {},
   "outputs": [
    {
     "name": "stdout",
     "output_type": "stream",
     "text": [
      "Enter the keys separated by space: a b c\n",
      "Enter the values separated by space: 10 20 30\n",
      "Sum of values: 60\n"
     ]
    }
   ],
   "source": [
    "keys = [x for x in input(\"Enter the keys separated by space: \").split(\" \")]\n",
    "values = [int(x) for x in input(\"Enter the values separated by space: \").split(\" \")]\n",
    "diction = {i:j for i,j in zip(keys, values)}\n",
    "\n",
    "print(\"Sum of values:\", sum(values))"
   ]
  },
  {
   "cell_type": "markdown",
   "metadata": {},
   "source": [
    "## Tuple Program\n",
    "Extract digits from Tuple list."
   ]
  },
  {
   "cell_type": "code",
   "execution_count": 7,
   "metadata": {},
   "outputs": [
    {
     "name": "stdout",
     "output_type": "stream",
     "text": [
      "Enter values of tuple 1 separated by space: 1 2 3\n",
      "Enter values of tuple 2 separated by space: 5 6\n",
      "The filtered tuple : [(1, 5), (1, 6), (2, 5), (2, 6), (3, 5), (3, 6), (5, 1), (5, 2), (5, 3), (6, 1), (6, 2), (6, 3)]\n"
     ]
    }
   ],
   "source": [
    "tuple1 = tuple([int(x) for x in input(\"Enter values of tuple 1 separated by space: \").split(\" \")])\n",
    "tuple2 = tuple([int(x) for x in input(\"Enter values of tuple 2 separated by space: \").split(\" \")])\n",
    "\n",
    "res =  [(a, b) for a in tuple1 for b in tuple2]\n",
    "res = res +  [(a, b) for a in tuple2 for b in tuple1]\n",
    "\n",
    "print(\"The filtered tuple : \" + str(res))"
   ]
  },
  {
   "cell_type": "markdown",
   "metadata": {},
   "source": [
    "## Searching and Sorting Program\n",
    "Program for Linear Search."
   ]
  },
  {
   "cell_type": "code",
   "execution_count": 8,
   "metadata": {},
   "outputs": [
    {
     "name": "stdout",
     "output_type": "stream",
     "text": [
      "Enter array values separated by space: 1 9 47 199\n",
      "Enter item to be found: 9\n",
      "Index of element 9 is: 1\n"
     ]
    }
   ],
   "source": [
    "arr = [int(x) for x in input(\"Enter array values separated by space: \").split(\" \")]\n",
    "x = int(input(\"Enter item to be found: \"))\n",
    "\n",
    "print(f\"Index of element {x} is: {arr.index(x)}\")"
   ]
  },
  {
   "cell_type": "markdown",
   "metadata": {},
   "source": [
    "## Pattern Printing Program\n",
    "Program to print an Inverted Star Pattern"
   ]
  },
  {
   "cell_type": "code",
   "execution_count": 9,
   "metadata": {},
   "outputs": [
    {
     "name": "stdout",
     "output_type": "stream",
     "text": [
      "Enter number of rows you want: 10\n",
      "**********\n",
      " *********\n",
      "  ********\n",
      "   *******\n",
      "    ******\n",
      "     *****\n",
      "      ****\n",
      "       ***\n",
      "        **\n",
      "         *\n"
     ]
    }
   ],
   "source": [
    "n = int(input(\"Enter number of rows you want: \"))\n",
    "\n",
    "for i in range (n, 0, -1):\n",
    "    print((n-i) * ' ' + i * '*')"
   ]
  },
  {
   "cell_type": "markdown",
   "metadata": {},
   "source": [
    "## Date-Time Program\n",
    "Convert date string to timestamp in Python"
   ]
  },
  {
   "cell_type": "code",
   "execution_count": 10,
   "metadata": {},
   "outputs": [
    {
     "name": "stdout",
     "output_type": "stream",
     "text": [
      "Enter date (dd): 10\n",
      "Enter month (mm): 01\n",
      "Enter year (yyyy): 2022\n",
      "\n",
      "Timestamp: 1641753000.0\n"
     ]
    }
   ],
   "source": [
    "date = input(\"Enter date (dd): \")\n",
    "month = input(\"Enter month (mm): \")\n",
    "year = input(\"Enter year (yyyy): \")\n",
    "\n",
    "string = f\"{date}/{month}/{year}\"\n",
    "element = datetime.datetime.strptime(string,\"%d/%m/%Y\")\n",
    "timestamp = datetime.datetime.timestamp(element)\n",
    "\n",
    "print(\"\\nTimestamp:\", timestamp)"
   ]
  },
  {
   "cell_type": "markdown",
   "metadata": {},
   "source": [
    "## Python Regex Program\n",
    "Program to Check if String Contain Only Defined Characters using Regex"
   ]
  },
  {
   "cell_type": "code",
   "execution_count": 11,
   "metadata": {},
   "outputs": [
    {
     "name": "stdout",
     "output_type": "stream",
     "text": [
      "Enter string to check for pattern (12): 12032020\n",
      "Valid String\n"
     ]
    }
   ],
   "source": [
    "def check(str, pattern):\n",
    "    if re.search(pattern, str):\n",
    "        print(\"Valid String\")\n",
    "    else:\n",
    "        print(\"Invalid String\")\n",
    "\n",
    "pattern = re.compile(\"12\")\n",
    "check(input(\"Enter string to check for pattern (12): \"), pattern)"
   ]
  },
  {
   "cell_type": "markdown",
   "metadata": {},
   "source": [
    "## Python File Handling Program\n",
    "Count number of lines in a text file in Python"
   ]
  },
  {
   "cell_type": "code",
   "execution_count": 12,
   "metadata": {},
   "outputs": [
    {
     "name": "stdout",
     "output_type": "stream",
     "text": [
      "Number of lines in given file: 5\n"
     ]
    }
   ],
   "source": [
    "with open(\"sample.txt\") as f:\n",
    "    content = f.readlines()\n",
    "\n",
    "print(\"Number of lines in given file:\", len(content))"
   ]
  }
 ],
 "metadata": {
  "kernelspec": {
   "display_name": "Python 3.10.5 64-bit",
   "language": "python",
   "name": "python3"
  },
  "language_info": {
   "codemirror_mode": {
    "name": "ipython",
    "version": 3
   },
   "file_extension": ".py",
   "mimetype": "text/x-python",
   "name": "python",
   "nbconvert_exporter": "python",
   "pygments_lexer": "ipython3",
   "version": "3.10.5"
  },
  "vscode": {
   "interpreter": {
    "hash": "26de051ba29f2982a8de78e945f0abaf191376122a1563185a90213a26c5da77"
   }
  }
 },
 "nbformat": 4,
 "nbformat_minor": 2
}
